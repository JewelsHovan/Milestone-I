{
 "cells": [
  {
   "cell_type": "code",
   "execution_count": 1,
   "id": "7cdeb51f-ad34-485d-a8b4-90f3ef76acf1",
   "metadata": {},
   "outputs": [],
   "source": [
    "%load_ext autoreload\n",
    "%autoreload 2"
   ]
  },
  {
   "cell_type": "code",
   "execution_count": 28,
   "id": "c9a2f63b-b737-4279-bacd-bfc96c444440",
   "metadata": {},
   "outputs": [],
   "source": [
    "import numpy as np\n",
    "import pandas as pd\n",
    "\n",
    "import matplotlib.pyplot as plt\n",
    "import seaborn as sns"
   ]
  },
  {
   "cell_type": "code",
   "execution_count": 51,
   "id": "13a907ce-42ff-4c8b-a358-963e678735b2",
   "metadata": {},
   "outputs": [],
   "source": [
    "from preprocess import PreprocessMIMIC\n",
    "\n",
    "# modify this to direct to the data stored locally\n",
    "file_paths = {\n",
    "    'edstays': \"ED/edstays.csv\",\n",
    "    'admissions': \"HOSP/admissions.csv\",\n",
    "    'transfers': \"HOSP/transfers.csv\",\n",
    "    'diagnosis': \"ED/diagnosis.csv\",\n",
    "    'triage': \"ED/triage.csv\",\n",
    "    'vitalsigns': 'ED/vitalsign.csv',\n",
    "    'medrecon': 'ED/medrecon.csv'\n",
    "}\n",
    "\n",
    "# instantiate the preprocessor class to aid cleaning the data\n",
    "preprocessor = PreprocessMIMIC(file_paths)"
   ]
  },
  {
   "cell_type": "code",
   "execution_count": 54,
   "id": "93f0a4b8-560e-40a8-b684-e19d2725e5b5",
   "metadata": {},
   "outputs": [
    {
     "name": "stdout",
     "output_type": "stream",
     "text": [
      "Information about the DataFrame\n",
      "#########################\n",
      "Shape of the df: (425087, 9)\n",
      "\n",
      "Missing Values:\n",
      "subject_id                0\n",
      "hadm_id              222071\n",
      "stay_id                   0\n",
      "intime                    0\n",
      "outtime                   0\n",
      "gender                    0\n",
      "race                      0\n",
      "arrival_transport         0\n",
      "disposition               0\n",
      "dtype: int64\n",
      "\n",
      "The number of unique values per 'object' dtype\n",
      "[('gender', 2), ('arrival_transport', 5), ('disposition', 8), ('race', 33), ('intime', 422817), ('outtime', 423227)]\n",
      "\n",
      "<class 'pandas.core.frame.DataFrame'>\n",
      "RangeIndex: 425087 entries, 0 to 425086\n",
      "Data columns (total 9 columns):\n",
      " #   Column             Non-Null Count   Dtype  \n",
      "---  ------             --------------   -----  \n",
      " 0   subject_id         425087 non-null  int64  \n",
      " 1   hadm_id            203016 non-null  float64\n",
      " 2   stay_id            425087 non-null  int64  \n",
      " 3   intime             425087 non-null  object \n",
      " 4   outtime            425087 non-null  object \n",
      " 5   gender             425087 non-null  object \n",
      " 6   race               425087 non-null  object \n",
      " 7   arrival_transport  425087 non-null  object \n",
      " 8   disposition        425087 non-null  object \n",
      "dtypes: float64(1), int64(2), object(6)\n",
      "memory usage: 29.2+ MB\n",
      "#########################\n"
     ]
    }
   ],
   "source": [
    "edstays = pd.read_csv(file_paths['edstays'])\n",
    "\n",
    "preprocessor.print_info(edstays)"
   ]
  },
  {
   "cell_type": "code",
   "execution_count": 55,
   "id": "9fe6164a-a322-4a45-ac6f-0477008df5ec",
   "metadata": {},
   "outputs": [],
   "source": [
    "# perform the processing steps\n",
    "preprocessor.convert_to_datetime(edstays, ['intime', 'outtime'])\n",
    "preprocessor.compute_LOS(edstays, 'intime', 'outtime', 'ed')"
   ]
  },
  {
   "cell_type": "code",
   "execution_count": 56,
   "id": "5f3a0d8c-c4a0-4b1f-a85e-215ed593e71e",
   "metadata": {},
   "outputs": [
    {
     "data": {
      "text/html": [
       "<div>\n",
       "<style scoped>\n",
       "    .dataframe tbody tr th:only-of-type {\n",
       "        vertical-align: middle;\n",
       "    }\n",
       "\n",
       "    .dataframe tbody tr th {\n",
       "        vertical-align: top;\n",
       "    }\n",
       "\n",
       "    .dataframe thead th {\n",
       "        text-align: right;\n",
       "    }\n",
       "</style>\n",
       "<table border=\"1\" class=\"dataframe\">\n",
       "  <thead>\n",
       "    <tr style=\"text-align: right;\">\n",
       "      <th></th>\n",
       "      <th>subject_id</th>\n",
       "      <th>hadm_id</th>\n",
       "      <th>stay_id</th>\n",
       "      <th>intime</th>\n",
       "      <th>outtime</th>\n",
       "      <th>gender</th>\n",
       "      <th>race</th>\n",
       "      <th>arrival_transport</th>\n",
       "      <th>disposition</th>\n",
       "      <th>ed_los_hours</th>\n",
       "    </tr>\n",
       "  </thead>\n",
       "  <tbody>\n",
       "    <tr>\n",
       "      <th>0</th>\n",
       "      <td>10000032</td>\n",
       "      <td>22595853.0</td>\n",
       "      <td>33258284</td>\n",
       "      <td>2180-05-06 19:17:00</td>\n",
       "      <td>2180-05-06 23:30:00</td>\n",
       "      <td>F</td>\n",
       "      <td>WHITE</td>\n",
       "      <td>AMBULANCE</td>\n",
       "      <td>ADMITTED</td>\n",
       "      <td>253.0</td>\n",
       "    </tr>\n",
       "    <tr>\n",
       "      <th>1</th>\n",
       "      <td>10000032</td>\n",
       "      <td>22841357.0</td>\n",
       "      <td>38112554</td>\n",
       "      <td>2180-06-26 15:54:00</td>\n",
       "      <td>2180-06-26 21:31:00</td>\n",
       "      <td>F</td>\n",
       "      <td>WHITE</td>\n",
       "      <td>AMBULANCE</td>\n",
       "      <td>ADMITTED</td>\n",
       "      <td>337.0</td>\n",
       "    </tr>\n",
       "    <tr>\n",
       "      <th>2</th>\n",
       "      <td>10000032</td>\n",
       "      <td>25742920.0</td>\n",
       "      <td>35968195</td>\n",
       "      <td>2180-08-05 20:58:00</td>\n",
       "      <td>2180-08-06 01:44:00</td>\n",
       "      <td>F</td>\n",
       "      <td>WHITE</td>\n",
       "      <td>AMBULANCE</td>\n",
       "      <td>ADMITTED</td>\n",
       "      <td>286.0</td>\n",
       "    </tr>\n",
       "    <tr>\n",
       "      <th>3</th>\n",
       "      <td>10000032</td>\n",
       "      <td>29079034.0</td>\n",
       "      <td>32952584</td>\n",
       "      <td>2180-07-22 16:24:00</td>\n",
       "      <td>2180-07-23 05:54:00</td>\n",
       "      <td>F</td>\n",
       "      <td>WHITE</td>\n",
       "      <td>AMBULANCE</td>\n",
       "      <td>HOME</td>\n",
       "      <td>810.0</td>\n",
       "    </tr>\n",
       "    <tr>\n",
       "      <th>4</th>\n",
       "      <td>10000032</td>\n",
       "      <td>29079034.0</td>\n",
       "      <td>39399961</td>\n",
       "      <td>2180-07-23 05:54:00</td>\n",
       "      <td>2180-07-23 14:00:00</td>\n",
       "      <td>F</td>\n",
       "      <td>WHITE</td>\n",
       "      <td>AMBULANCE</td>\n",
       "      <td>ADMITTED</td>\n",
       "      <td>486.0</td>\n",
       "    </tr>\n",
       "  </tbody>\n",
       "</table>\n",
       "</div>"
      ],
      "text/plain": [
       "   subject_id     hadm_id   stay_id              intime             outtime  \\\n",
       "0    10000032  22595853.0  33258284 2180-05-06 19:17:00 2180-05-06 23:30:00   \n",
       "1    10000032  22841357.0  38112554 2180-06-26 15:54:00 2180-06-26 21:31:00   \n",
       "2    10000032  25742920.0  35968195 2180-08-05 20:58:00 2180-08-06 01:44:00   \n",
       "3    10000032  29079034.0  32952584 2180-07-22 16:24:00 2180-07-23 05:54:00   \n",
       "4    10000032  29079034.0  39399961 2180-07-23 05:54:00 2180-07-23 14:00:00   \n",
       "\n",
       "  gender   race arrival_transport disposition  ed_los_hours  \n",
       "0      F  WHITE         AMBULANCE    ADMITTED         253.0  \n",
       "1      F  WHITE         AMBULANCE    ADMITTED         337.0  \n",
       "2      F  WHITE         AMBULANCE    ADMITTED         286.0  \n",
       "3      F  WHITE         AMBULANCE        HOME         810.0  \n",
       "4      F  WHITE         AMBULANCE    ADMITTED         486.0  "
      ]
     },
     "execution_count": 56,
     "metadata": {},
     "output_type": "execute_result"
    }
   ],
   "source": [
    "edstays.head(5)"
   ]
  },
  {
   "cell_type": "code",
   "execution_count": 80,
   "id": "271cafa0-a8bc-44ee-8291-86732afb79d8",
   "metadata": {},
   "outputs": [],
   "source": [
    "vitalsign_df = pd.read_csv(file_paths['vitalsigns'])\n",
    "triage_df = pd.read_csv(file_paths['triage'])\n",
    "medrecon_df = pd.read_csv(file_paths['medrecon'])"
   ]
  }
 ],
 "metadata": {
  "kernelspec": {
   "display_name": "Python 3 (ipykernel)",
   "language": "python",
   "name": "python3"
  },
  "language_info": {
   "codemirror_mode": {
    "name": "ipython",
    "version": 3
   },
   "file_extension": ".py",
   "mimetype": "text/x-python",
   "name": "python",
   "nbconvert_exporter": "python",
   "pygments_lexer": "ipython3",
   "version": "3.9.6"
  }
 },
 "nbformat": 4,
 "nbformat_minor": 5
}
