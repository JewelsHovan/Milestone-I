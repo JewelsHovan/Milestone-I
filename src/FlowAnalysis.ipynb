{
 "cells": [
  {
   "cell_type": "markdown",
   "id": "ea9f17d8",
   "metadata": {},
   "source": [
    "# Patient Journey Analysis and Visualization\n",
    "\n",
    "This notebook aims to analyze patient movement data to understand the relationship between the number of transfers and the length of stay (LOS). We will also combine various datasets to create a complete patient journey analysis and visualize patient flow using Sankey diagrams."
   ]
  },
  {
   "cell_type": "markdown",
   "id": "1bd2e294",
   "metadata": {},
   "source": [
    "## 1. Imports"
   ]
  },
  {
   "cell_type": "code",
   "execution_count": 2,
   "id": "7e00cea8",
   "metadata": {},
   "outputs": [],
   "source": [
    "# Basic imports\n",
    "import numpy as np\n",
    "import pandas as pd\n",
    "import matplotlib.pyplot as plt\n",
    "import seaborn as sns\n",
    "import plotly.graph_objects as go  # For Sankey diagrams\n",
    "from datetime import timedelta\n",
    "from collections import defaultdict\n",
    "\n",
    "# Visualization for missing data\n",
    "import missingno as msno\n",
    "\n",
    "# Scikit-learn imports (if needed)\n",
    "from sklearn.model_selection import train_test_split\n",
    "from sklearn.preprocessing import StandardScaler\n"
   ]
  },
  {
   "cell_type": "markdown",
   "id": "fb1a6767",
   "metadata": {},
   "source": [
    "## 2. Data Loading\n",
    "\n",
    "We define the file paths to the datasets and load them into pandas DataFrames.\n",
    "\n"
   ]
  },
  {
   "cell_type": "code",
   "execution_count": 3,
   "id": "07307424-f40d-4c89-ac3d-d132565dce99",
   "metadata": {},
   "outputs": [],
   "source": [
    "# Modify this to direct to the data stored locally\n",
    "file_paths = {\n",
    "    'edstays': \"../ED/edstays.csv\",\n",
    "    'admissions': \"../HOSP/admissions.csv\",\n",
    "    'transfers': \"../HOSP/transfers.csv\",\n",
    "    'diagnosis': \"../ED/diagnosis.csv\",\n",
    "    'triage': \"../ED/triage.csv\",\n",
    "    'vitalsigns': \"../ED/vitalsign.csv\",\n",
    "    'medrecon': \"../ED/medrecon.csv\",\n",
    "    'patients': \"../HOSP/patients.csv\"\n",
    "}\n"
   ]
  },
  {
   "cell_type": "markdown",
   "id": "c61fd215",
   "metadata": {},
   "source": [
    "## 3. Analyzing Transfers and Length of Stay"
   ]
  },
  {
   "cell_type": "markdown",
   "id": "348253f8",
   "metadata": {},
   "source": [
    "### 3.1 Load and Preprocess Transfers Data"
   ]
  },
  {
   "cell_type": "code",
   "execution_count": 38,
   "id": "79c2b133",
   "metadata": {},
   "outputs": [
    {
     "data": {
      "text/html": [
       "<div>\n",
       "<style scoped>\n",
       "    .dataframe tbody tr th:only-of-type {\n",
       "        vertical-align: middle;\n",
       "    }\n",
       "\n",
       "    .dataframe tbody tr th {\n",
       "        vertical-align: top;\n",
       "    }\n",
       "\n",
       "    .dataframe thead th {\n",
       "        text-align: right;\n",
       "    }\n",
       "</style>\n",
       "<table border=\"1\" class=\"dataframe\">\n",
       "  <thead>\n",
       "    <tr style=\"text-align: right;\">\n",
       "      <th></th>\n",
       "      <th>subject_id</th>\n",
       "      <th>hadm_id</th>\n",
       "      <th>transfer_id</th>\n",
       "      <th>eventtype</th>\n",
       "      <th>careunit</th>\n",
       "      <th>intime</th>\n",
       "      <th>outtime</th>\n",
       "      <th>los</th>\n",
       "    </tr>\n",
       "  </thead>\n",
       "  <tbody>\n",
       "    <tr>\n",
       "      <th>0</th>\n",
       "      <td>10000032</td>\n",
       "      <td>22595853.0</td>\n",
       "      <td>33258284</td>\n",
       "      <td>ED</td>\n",
       "      <td>Emergency Department</td>\n",
       "      <td>2180-05-06 19:17:00</td>\n",
       "      <td>2180-05-06 23:30:00</td>\n",
       "      <td>4.216667</td>\n",
       "    </tr>\n",
       "    <tr>\n",
       "      <th>1</th>\n",
       "      <td>10000032</td>\n",
       "      <td>22595853.0</td>\n",
       "      <td>35223874</td>\n",
       "      <td>admit</td>\n",
       "      <td>Transplant</td>\n",
       "      <td>2180-05-06 23:30:00</td>\n",
       "      <td>2180-05-07 17:21:27</td>\n",
       "      <td>17.857500</td>\n",
       "    </tr>\n",
       "    <tr>\n",
       "      <th>2</th>\n",
       "      <td>10000032</td>\n",
       "      <td>22595853.0</td>\n",
       "      <td>36904543</td>\n",
       "      <td>discharge</td>\n",
       "      <td>UNKNOWN</td>\n",
       "      <td>2180-05-07 17:21:27</td>\n",
       "      <td>NaT</td>\n",
       "      <td>NaN</td>\n",
       "    </tr>\n",
       "    <tr>\n",
       "      <th>3</th>\n",
       "      <td>10000032</td>\n",
       "      <td>22841357.0</td>\n",
       "      <td>34100253</td>\n",
       "      <td>discharge</td>\n",
       "      <td>UNKNOWN</td>\n",
       "      <td>2180-06-27 18:49:12</td>\n",
       "      <td>NaT</td>\n",
       "      <td>NaN</td>\n",
       "    </tr>\n",
       "    <tr>\n",
       "      <th>4</th>\n",
       "      <td>10000032</td>\n",
       "      <td>22841357.0</td>\n",
       "      <td>34703856</td>\n",
       "      <td>admit</td>\n",
       "      <td>Transplant</td>\n",
       "      <td>2180-06-26 21:31:00</td>\n",
       "      <td>2180-06-27 18:49:12</td>\n",
       "      <td>21.303333</td>\n",
       "    </tr>\n",
       "    <tr>\n",
       "      <th>...</th>\n",
       "      <td>...</td>\n",
       "      <td>...</td>\n",
       "      <td>...</td>\n",
       "      <td>...</td>\n",
       "      <td>...</td>\n",
       "      <td>...</td>\n",
       "      <td>...</td>\n",
       "      <td>...</td>\n",
       "    </tr>\n",
       "    <tr>\n",
       "      <th>2413584</th>\n",
       "      <td>19999914</td>\n",
       "      <td>NaN</td>\n",
       "      <td>32002659</td>\n",
       "      <td>ED</td>\n",
       "      <td>Emergency Department</td>\n",
       "      <td>2158-12-24 11:41:00</td>\n",
       "      <td>2158-12-24 11:56:00</td>\n",
       "      <td>0.250000</td>\n",
       "    </tr>\n",
       "    <tr>\n",
       "      <th>2413585</th>\n",
       "      <td>19999987</td>\n",
       "      <td>23865745.0</td>\n",
       "      <td>30249304</td>\n",
       "      <td>transfer</td>\n",
       "      <td>Neurology</td>\n",
       "      <td>2145-11-04 21:29:30</td>\n",
       "      <td>2145-11-11 13:00:47</td>\n",
       "      <td>159.521389</td>\n",
       "    </tr>\n",
       "    <tr>\n",
       "      <th>2413586</th>\n",
       "      <td>19999987</td>\n",
       "      <td>23865745.0</td>\n",
       "      <td>34731548</td>\n",
       "      <td>ED</td>\n",
       "      <td>Emergency Department</td>\n",
       "      <td>2145-11-02 19:28:00</td>\n",
       "      <td>2145-11-02 22:59:00</td>\n",
       "      <td>3.516667</td>\n",
       "    </tr>\n",
       "    <tr>\n",
       "      <th>2413587</th>\n",
       "      <td>19999987</td>\n",
       "      <td>23865745.0</td>\n",
       "      <td>36195440</td>\n",
       "      <td>admit</td>\n",
       "      <td>Trauma SICU (TSICU)</td>\n",
       "      <td>2145-11-02 22:59:00</td>\n",
       "      <td>2145-11-04 21:29:30</td>\n",
       "      <td>46.508333</td>\n",
       "    </tr>\n",
       "    <tr>\n",
       "      <th>2413588</th>\n",
       "      <td>19999987</td>\n",
       "      <td>23865745.0</td>\n",
       "      <td>37191562</td>\n",
       "      <td>discharge</td>\n",
       "      <td>UNKNOWN</td>\n",
       "      <td>2145-11-11 13:00:47</td>\n",
       "      <td>NaT</td>\n",
       "      <td>NaN</td>\n",
       "    </tr>\n",
       "  </tbody>\n",
       "</table>\n",
       "<p>2413589 rows × 8 columns</p>\n",
       "</div>"
      ],
      "text/plain": [
       "         subject_id     hadm_id  transfer_id  eventtype              careunit  \\\n",
       "0          10000032  22595853.0     33258284         ED  Emergency Department   \n",
       "1          10000032  22595853.0     35223874      admit            Transplant   \n",
       "2          10000032  22595853.0     36904543  discharge               UNKNOWN   \n",
       "3          10000032  22841357.0     34100253  discharge               UNKNOWN   \n",
       "4          10000032  22841357.0     34703856      admit            Transplant   \n",
       "...             ...         ...          ...        ...                   ...   \n",
       "2413584    19999914         NaN     32002659         ED  Emergency Department   \n",
       "2413585    19999987  23865745.0     30249304   transfer             Neurology   \n",
       "2413586    19999987  23865745.0     34731548         ED  Emergency Department   \n",
       "2413587    19999987  23865745.0     36195440      admit   Trauma SICU (TSICU)   \n",
       "2413588    19999987  23865745.0     37191562  discharge               UNKNOWN   \n",
       "\n",
       "                     intime             outtime         los  \n",
       "0       2180-05-06 19:17:00 2180-05-06 23:30:00    4.216667  \n",
       "1       2180-05-06 23:30:00 2180-05-07 17:21:27   17.857500  \n",
       "2       2180-05-07 17:21:27                 NaT         NaN  \n",
       "3       2180-06-27 18:49:12                 NaT         NaN  \n",
       "4       2180-06-26 21:31:00 2180-06-27 18:49:12   21.303333  \n",
       "...                     ...                 ...         ...  \n",
       "2413584 2158-12-24 11:41:00 2158-12-24 11:56:00    0.250000  \n",
       "2413585 2145-11-04 21:29:30 2145-11-11 13:00:47  159.521389  \n",
       "2413586 2145-11-02 19:28:00 2145-11-02 22:59:00    3.516667  \n",
       "2413587 2145-11-02 22:59:00 2145-11-04 21:29:30   46.508333  \n",
       "2413588 2145-11-11 13:00:47                 NaT         NaN  \n",
       "\n",
       "[2413589 rows x 8 columns]"
      ]
     },
     "execution_count": 38,
     "metadata": {},
     "output_type": "execute_result"
    }
   ],
   "source": [
    "# Load Transfers Data\n",
    "transfers_df = pd.read_csv(file_paths['transfers'])\n",
    "\n",
    "# Convert datetime columns\n",
    "transfers_df['intime'] = pd.to_datetime(transfers_df['intime'])\n",
    "transfers_df['outtime'] = pd.to_datetime(transfers_df['outtime'])\n",
    "\n",
    "# Calculate Length of Stay (LOS) in hours\n",
    "transfers_df['los'] = (transfers_df['outtime'] - transfers_df['intime']).dt.total_seconds() / 3600\n",
    "\n",
    "transfers_df"
   ]
  },
  {
   "cell_type": "markdown",
   "id": "1ba3ddef",
   "metadata": {},
   "source": [
    "### 3.2 Analyze Patient Movement\n",
    "\n",
    "We define a function to summarize patient movement data."
   ]
  },
  {
   "cell_type": "code",
   "execution_count": 39,
   "id": "ed68bd91",
   "metadata": {},
   "outputs": [
    {
     "name": "stdout",
     "output_type": "stream",
     "text": [
      "Summary of patient movement:\n",
      "       num_transfers      total_los      num_units  avg_time_per_unit\n",
      "count  546025.000000  546025.000000  546025.000000      546025.000000\n",
      "mean        3.671268     118.920617       3.207408          36.912997\n",
      "std         1.466438     188.122255       0.866075          59.157673\n",
      "min         1.000000       0.000000       1.000000           0.000000\n",
      "25%         3.000000      31.754722       3.000000          10.990833\n",
      "50%         3.000000      71.919722       3.000000          23.114259\n",
      "75%         4.000000     138.994167       3.000000          42.691111\n",
      "max        34.000000   52894.029444      14.000000       17631.343148\n"
     ]
    }
   ],
   "source": [
    "def analyze_patient_movement(df):\n",
    "    \"\"\"\n",
    "    Summarizes patient movement data by subject_id and hadm_id.\n",
    "    \"\"\"\n",
    "    patient_stays = df.groupby(['subject_id', 'hadm_id'])\n",
    "    \n",
    "    movement_summary = patient_stays.agg(\n",
    "        num_transfers=('eventtype', 'count'),\n",
    "        total_los=('los', 'sum'),\n",
    "        num_units=('careunit', 'nunique')\n",
    "    )\n",
    "    \n",
    "    movement_summary['avg_time_per_unit'] = movement_summary['total_los'] / movement_summary['num_units']\n",
    "    \n",
    "    return movement_summary\n",
    "\n",
    "# Generate Movement Summary\n",
    "movement_summary = analyze_patient_movement(transfers_df)\n",
    "\n",
    "# Display Summary Statistics\n",
    "print(\"Summary of patient movement:\")\n",
    "print(movement_summary.describe())\n"
   ]
  },
  {
   "cell_type": "markdown",
   "id": "05cee6bf",
   "metadata": {},
   "source": [
    "### 3.3 Average Time Spent in Each Unit\n"
   ]
  },
  {
   "cell_type": "code",
   "execution_count": 41,
   "id": "99b2ede5",
   "metadata": {},
   "outputs": [
    {
     "name": "stdout",
     "output_type": "stream",
     "text": [
      "\n",
      "Average time spent in each unit:\n"
     ]
    },
    {
     "data": {
      "text/html": [
       "<div>\n",
       "<style scoped>\n",
       "    .dataframe tbody tr th:only-of-type {\n",
       "        vertical-align: middle;\n",
       "    }\n",
       "\n",
       "    .dataframe tbody tr th {\n",
       "        vertical-align: top;\n",
       "    }\n",
       "\n",
       "    .dataframe thead th {\n",
       "        text-align: right;\n",
       "    }\n",
       "</style>\n",
       "<table border=\"1\" class=\"dataframe\">\n",
       "  <thead>\n",
       "    <tr style=\"text-align: right;\">\n",
       "      <th></th>\n",
       "      <th>mean</th>\n",
       "      <th>median</th>\n",
       "      <th>count</th>\n",
       "    </tr>\n",
       "    <tr>\n",
       "      <th>careunit</th>\n",
       "      <th></th>\n",
       "      <th></th>\n",
       "      <th></th>\n",
       "    </tr>\n",
       "  </thead>\n",
       "  <tbody>\n",
       "    <tr>\n",
       "      <th>Emergency Department</th>\n",
       "      <td>7.038319</td>\n",
       "      <td>5.339722</td>\n",
       "      <td>784399</td>\n",
       "    </tr>\n",
       "    <tr>\n",
       "      <th>Medicine</th>\n",
       "      <td>69.081396</td>\n",
       "      <td>43.529167</td>\n",
       "      <td>191843</td>\n",
       "    </tr>\n",
       "    <tr>\n",
       "      <th>Emergency Department Observation</th>\n",
       "      <td>4.742284</td>\n",
       "      <td>0.445556</td>\n",
       "      <td>101341</td>\n",
       "    </tr>\n",
       "    <tr>\n",
       "      <th>Discharge Lounge</th>\n",
       "      <td>10.827407</td>\n",
       "      <td>12.519167</td>\n",
       "      <td>71241</td>\n",
       "    </tr>\n",
       "    <tr>\n",
       "      <th>Med/Surg</th>\n",
       "      <td>66.872366</td>\n",
       "      <td>42.955000</td>\n",
       "      <td>56905</td>\n",
       "    </tr>\n",
       "    <tr>\n",
       "      <th>Medicine/Cardiology</th>\n",
       "      <td>58.669751</td>\n",
       "      <td>36.877778</td>\n",
       "      <td>53891</td>\n",
       "    </tr>\n",
       "    <tr>\n",
       "      <th>Neurology</th>\n",
       "      <td>64.780727</td>\n",
       "      <td>42.077917</td>\n",
       "      <td>49746</td>\n",
       "    </tr>\n",
       "    <tr>\n",
       "      <th>Transplant</th>\n",
       "      <td>82.474241</td>\n",
       "      <td>47.977778</td>\n",
       "      <td>37903</td>\n",
       "    </tr>\n",
       "    <tr>\n",
       "      <th>Hematology/Oncology</th>\n",
       "      <td>101.543491</td>\n",
       "      <td>55.179167</td>\n",
       "      <td>37354</td>\n",
       "    </tr>\n",
       "    <tr>\n",
       "      <th>PACU</th>\n",
       "      <td>6.166163</td>\n",
       "      <td>2.685972</td>\n",
       "      <td>34958</td>\n",
       "    </tr>\n",
       "    <tr>\n",
       "      <th>Vascular</th>\n",
       "      <td>58.885385</td>\n",
       "      <td>38.953889</td>\n",
       "      <td>32546</td>\n",
       "    </tr>\n",
       "    <tr>\n",
       "      <th>Labor &amp; Delivery</th>\n",
       "      <td>11.227959</td>\n",
       "      <td>8.244167</td>\n",
       "      <td>29003</td>\n",
       "    </tr>\n",
       "    <tr>\n",
       "      <th>Med/Surg/GYN</th>\n",
       "      <td>54.843849</td>\n",
       "      <td>40.389722</td>\n",
       "      <td>27958</td>\n",
       "    </tr>\n",
       "    <tr>\n",
       "      <th>Surgery/Trauma</th>\n",
       "      <td>75.208022</td>\n",
       "      <td>47.033750</td>\n",
       "      <td>26376</td>\n",
       "    </tr>\n",
       "    <tr>\n",
       "      <th>Medical Intensive Care Unit (MICU)</th>\n",
       "      <td>70.603621</td>\n",
       "      <td>38.070556</td>\n",
       "      <td>26373</td>\n",
       "    </tr>\n",
       "    <tr>\n",
       "      <th>Med/Surg/Trauma</th>\n",
       "      <td>69.212795</td>\n",
       "      <td>47.271528</td>\n",
       "      <td>24544</td>\n",
       "    </tr>\n",
       "    <tr>\n",
       "      <th>Hematology/Oncology Intermediate</th>\n",
       "      <td>104.392253</td>\n",
       "      <td>54.449444</td>\n",
       "      <td>24366</td>\n",
       "    </tr>\n",
       "    <tr>\n",
       "      <th>Surgery</th>\n",
       "      <td>58.724171</td>\n",
       "      <td>38.568750</td>\n",
       "      <td>21412</td>\n",
       "    </tr>\n",
       "    <tr>\n",
       "      <th>Cardiac Vascular Intensive Care Unit (CVICU)</th>\n",
       "      <td>60.630826</td>\n",
       "      <td>33.179861</td>\n",
       "      <td>20916</td>\n",
       "    </tr>\n",
       "    <tr>\n",
       "      <th>Medical/Surgical Intensive Care Unit (MICU/SICU)</th>\n",
       "      <td>56.688975</td>\n",
       "      <td>30.844167</td>\n",
       "      <td>20425</td>\n",
       "    </tr>\n",
       "    <tr>\n",
       "      <th>Cardiac Surgery</th>\n",
       "      <td>56.721942</td>\n",
       "      <td>46.595000</td>\n",
       "      <td>18003</td>\n",
       "    </tr>\n",
       "    <tr>\n",
       "      <th>Surgical Intensive Care Unit (SICU)</th>\n",
       "      <td>75.907241</td>\n",
       "      <td>41.289167</td>\n",
       "      <td>17309</td>\n",
       "    </tr>\n",
       "    <tr>\n",
       "      <th>Obstetrics (Postpartum &amp; Antepartum)</th>\n",
       "      <td>64.187046</td>\n",
       "      <td>52.287222</td>\n",
       "      <td>16919</td>\n",
       "    </tr>\n",
       "    <tr>\n",
       "      <th>Psychiatry</th>\n",
       "      <td>154.608928</td>\n",
       "      <td>96.634583</td>\n",
       "      <td>16872</td>\n",
       "    </tr>\n",
       "    <tr>\n",
       "      <th>Medicine/Cardiology Intermediate</th>\n",
       "      <td>78.021752</td>\n",
       "      <td>46.392361</td>\n",
       "      <td>15534</td>\n",
       "    </tr>\n",
       "    <tr>\n",
       "      <th>Trauma SICU (TSICU)</th>\n",
       "      <td>66.680349</td>\n",
       "      <td>34.710833</td>\n",
       "      <td>14971</td>\n",
       "    </tr>\n",
       "    <tr>\n",
       "      <th>Coronary Care Unit (CCU)</th>\n",
       "      <td>61.347120</td>\n",
       "      <td>40.260278</td>\n",
       "      <td>13916</td>\n",
       "    </tr>\n",
       "    <tr>\n",
       "      <th>Cardiology Surgery Intermediate</th>\n",
       "      <td>73.850843</td>\n",
       "      <td>62.665139</td>\n",
       "      <td>10406</td>\n",
       "    </tr>\n",
       "    <tr>\n",
       "      <th>Medical/Surgical (Gynecology)</th>\n",
       "      <td>50.101992</td>\n",
       "      <td>33.312639</td>\n",
       "      <td>10214</td>\n",
       "    </tr>\n",
       "    <tr>\n",
       "      <th>Surgery/Pancreatic/Biliary/Bariatric</th>\n",
       "      <td>63.823220</td>\n",
       "      <td>40.537778</td>\n",
       "      <td>9031</td>\n",
       "    </tr>\n",
       "    <tr>\n",
       "      <th>Neuro Intermediate</th>\n",
       "      <td>58.677773</td>\n",
       "      <td>41.533333</td>\n",
       "      <td>8834</td>\n",
       "    </tr>\n",
       "    <tr>\n",
       "      <th>Obstetrics Postpartum</th>\n",
       "      <td>57.117547</td>\n",
       "      <td>50.676111</td>\n",
       "      <td>8086</td>\n",
       "    </tr>\n",
       "    <tr>\n",
       "      <th>Surgery/Vascular/Intermediate</th>\n",
       "      <td>91.195079</td>\n",
       "      <td>54.515000</td>\n",
       "      <td>7515</td>\n",
       "    </tr>\n",
       "    <tr>\n",
       "      <th>Observation</th>\n",
       "      <td>22.108430</td>\n",
       "      <td>19.600833</td>\n",
       "      <td>4624</td>\n",
       "    </tr>\n",
       "    <tr>\n",
       "      <th>Cardiology</th>\n",
       "      <td>20.964507</td>\n",
       "      <td>20.450972</td>\n",
       "      <td>4392</td>\n",
       "    </tr>\n",
       "    <tr>\n",
       "      <th>Neuro Surgical Intensive Care Unit (Neuro SICU)</th>\n",
       "      <td>95.852393</td>\n",
       "      <td>48.177222</td>\n",
       "      <td>4026</td>\n",
       "    </tr>\n",
       "    <tr>\n",
       "      <th>Thoracic Surgery</th>\n",
       "      <td>48.290494</td>\n",
       "      <td>27.120417</td>\n",
       "      <td>3284</td>\n",
       "    </tr>\n",
       "    <tr>\n",
       "      <th>Obstetrics Antepartum</th>\n",
       "      <td>73.456794</td>\n",
       "      <td>43.655000</td>\n",
       "      <td>3008</td>\n",
       "    </tr>\n",
       "    <tr>\n",
       "      <th>Neuro Stepdown</th>\n",
       "      <td>47.400426</td>\n",
       "      <td>30.322500</td>\n",
       "      <td>2016</td>\n",
       "    </tr>\n",
       "    <tr>\n",
       "      <th>Nursery</th>\n",
       "      <td>31.889853</td>\n",
       "      <td>6.367222</td>\n",
       "      <td>1972</td>\n",
       "    </tr>\n",
       "    <tr>\n",
       "      <th>Surgical Intermediate</th>\n",
       "      <td>88.161466</td>\n",
       "      <td>49.902222</td>\n",
       "      <td>1791</td>\n",
       "    </tr>\n",
       "    <tr>\n",
       "      <th>Oncology</th>\n",
       "      <td>143.224867</td>\n",
       "      <td>85.102500</td>\n",
       "      <td>789</td>\n",
       "    </tr>\n",
       "    <tr>\n",
       "      <th>UNKNOWN</th>\n",
       "      <td>67.959558</td>\n",
       "      <td>31.211944</td>\n",
       "      <td>176</td>\n",
       "    </tr>\n",
       "    <tr>\n",
       "      <th>Unknown</th>\n",
       "      <td>26.824940</td>\n",
       "      <td>18.930278</td>\n",
       "      <td>158</td>\n",
       "    </tr>\n",
       "    <tr>\n",
       "      <th>Intensive Care Unit (ICU)</th>\n",
       "      <td>67.373143</td>\n",
       "      <td>34.838056</td>\n",
       "      <td>117</td>\n",
       "    </tr>\n",
       "    <tr>\n",
       "      <th>Special Care Nursery (SCN)</th>\n",
       "      <td>399.356019</td>\n",
       "      <td>98.791389</td>\n",
       "      <td>3</td>\n",
       "    </tr>\n",
       "  </tbody>\n",
       "</table>\n",
       "</div>"
      ],
      "text/plain": [
       "                                                        mean     median  \\\n",
       "careunit                                                                  \n",
       "Emergency Department                                7.038319   5.339722   \n",
       "Medicine                                           69.081396  43.529167   \n",
       "Emergency Department Observation                    4.742284   0.445556   \n",
       "Discharge Lounge                                   10.827407  12.519167   \n",
       "Med/Surg                                           66.872366  42.955000   \n",
       "Medicine/Cardiology                                58.669751  36.877778   \n",
       "Neurology                                          64.780727  42.077917   \n",
       "Transplant                                         82.474241  47.977778   \n",
       "Hematology/Oncology                               101.543491  55.179167   \n",
       "PACU                                                6.166163   2.685972   \n",
       "Vascular                                           58.885385  38.953889   \n",
       "Labor & Delivery                                   11.227959   8.244167   \n",
       "Med/Surg/GYN                                       54.843849  40.389722   \n",
       "Surgery/Trauma                                     75.208022  47.033750   \n",
       "Medical Intensive Care Unit (MICU)                 70.603621  38.070556   \n",
       "Med/Surg/Trauma                                    69.212795  47.271528   \n",
       "Hematology/Oncology Intermediate                  104.392253  54.449444   \n",
       "Surgery                                            58.724171  38.568750   \n",
       "Cardiac Vascular Intensive Care Unit (CVICU)       60.630826  33.179861   \n",
       "Medical/Surgical Intensive Care Unit (MICU/SICU)   56.688975  30.844167   \n",
       "Cardiac Surgery                                    56.721942  46.595000   \n",
       "Surgical Intensive Care Unit (SICU)                75.907241  41.289167   \n",
       "Obstetrics (Postpartum & Antepartum)               64.187046  52.287222   \n",
       "Psychiatry                                        154.608928  96.634583   \n",
       "Medicine/Cardiology Intermediate                   78.021752  46.392361   \n",
       "Trauma SICU (TSICU)                                66.680349  34.710833   \n",
       "Coronary Care Unit (CCU)                           61.347120  40.260278   \n",
       "Cardiology Surgery Intermediate                    73.850843  62.665139   \n",
       "Medical/Surgical (Gynecology)                      50.101992  33.312639   \n",
       "Surgery/Pancreatic/Biliary/Bariatric               63.823220  40.537778   \n",
       "Neuro Intermediate                                 58.677773  41.533333   \n",
       "Obstetrics Postpartum                              57.117547  50.676111   \n",
       "Surgery/Vascular/Intermediate                      91.195079  54.515000   \n",
       "Observation                                        22.108430  19.600833   \n",
       "Cardiology                                         20.964507  20.450972   \n",
       "Neuro Surgical Intensive Care Unit (Neuro SICU)    95.852393  48.177222   \n",
       "Thoracic Surgery                                   48.290494  27.120417   \n",
       "Obstetrics Antepartum                              73.456794  43.655000   \n",
       "Neuro Stepdown                                     47.400426  30.322500   \n",
       "Nursery                                            31.889853   6.367222   \n",
       "Surgical Intermediate                              88.161466  49.902222   \n",
       "Oncology                                          143.224867  85.102500   \n",
       "UNKNOWN                                            67.959558  31.211944   \n",
       "Unknown                                            26.824940  18.930278   \n",
       "Intensive Care Unit (ICU)                          67.373143  34.838056   \n",
       "Special Care Nursery (SCN)                        399.356019  98.791389   \n",
       "\n",
       "                                                   count  \n",
       "careunit                                                  \n",
       "Emergency Department                              784399  \n",
       "Medicine                                          191843  \n",
       "Emergency Department Observation                  101341  \n",
       "Discharge Lounge                                   71241  \n",
       "Med/Surg                                           56905  \n",
       "Medicine/Cardiology                                53891  \n",
       "Neurology                                          49746  \n",
       "Transplant                                         37903  \n",
       "Hematology/Oncology                                37354  \n",
       "PACU                                               34958  \n",
       "Vascular                                           32546  \n",
       "Labor & Delivery                                   29003  \n",
       "Med/Surg/GYN                                       27958  \n",
       "Surgery/Trauma                                     26376  \n",
       "Medical Intensive Care Unit (MICU)                 26373  \n",
       "Med/Surg/Trauma                                    24544  \n",
       "Hematology/Oncology Intermediate                   24366  \n",
       "Surgery                                            21412  \n",
       "Cardiac Vascular Intensive Care Unit (CVICU)       20916  \n",
       "Medical/Surgical Intensive Care Unit (MICU/SICU)   20425  \n",
       "Cardiac Surgery                                    18003  \n",
       "Surgical Intensive Care Unit (SICU)                17309  \n",
       "Obstetrics (Postpartum & Antepartum)               16919  \n",
       "Psychiatry                                         16872  \n",
       "Medicine/Cardiology Intermediate                   15534  \n",
       "Trauma SICU (TSICU)                                14971  \n",
       "Coronary Care Unit (CCU)                           13916  \n",
       "Cardiology Surgery Intermediate                    10406  \n",
       "Medical/Surgical (Gynecology)                      10214  \n",
       "Surgery/Pancreatic/Biliary/Bariatric                9031  \n",
       "Neuro Intermediate                                  8834  \n",
       "Obstetrics Postpartum                               8086  \n",
       "Surgery/Vascular/Intermediate                       7515  \n",
       "Observation                                         4624  \n",
       "Cardiology                                          4392  \n",
       "Neuro Surgical Intensive Care Unit (Neuro SICU)     4026  \n",
       "Thoracic Surgery                                    3284  \n",
       "Obstetrics Antepartum                               3008  \n",
       "Neuro Stepdown                                      2016  \n",
       "Nursery                                             1972  \n",
       "Surgical Intermediate                               1791  \n",
       "Oncology                                             789  \n",
       "UNKNOWN                                              176  \n",
       "Unknown                                              158  \n",
       "Intensive Care Unit (ICU)                            117  \n",
       "Special Care Nursery (SCN)                             3  "
      ]
     },
     "execution_count": 41,
     "metadata": {},
     "output_type": "execute_result"
    }
   ],
   "source": [
    "# Calculate Average Time Spent in Each Unit\n",
    "unit_time = transfers_df.groupby('careunit')['los'].agg(['mean', 'median', 'count']).sort_values('count', ascending=False)\n",
    "\n",
    "print(\"\\nAverage time spent in each unit:\")\n",
    "unit_time\n"
   ]
  },
  {
   "cell_type": "markdown",
   "id": "766f10af",
   "metadata": {},
   "source": [
    "### 3.4 Visualize Patient Flow\n"
   ]
  },
  {
   "cell_type": "code",
   "execution_count": 45,
   "id": "e2d95106",
   "metadata": {},
   "outputs": [
    {
     "data": {
      "image/png": "[encoded data removed]",
      "text/plain": [
       "<Figure size 1200x600 with 1 Axes>"
      ]
     },
     "metadata": {},
     "output_type": "display_data"
    }
   ],
   "source": [
    "def plot_patient_flow(df, patient_id):\n",
    "    \"\"\"\n",
    "    Plots the flow of a patient through different care units over time.\n",
    "    \"\"\"\n",
    "    patient_data = df[df['subject_id'] == patient_id].sort_values('intime')\n",
    "    \n",
    "    plt.figure(figsize=(12, 6))\n",
    "    \n",
    "    for _, row in patient_data.iterrows():\n",
    "        plt.barh(row['careunit'], row['los'], left=row['intime'], height=0.5)\n",
    "    \n",
    "    plt.title(f'Patient Flow for Subject {patient_id}')\n",
    "    plt.xlabel('Time')\n",
    "    plt.ylabel('Care Unit')\n",
    "    plt.tight_layout()\n",
    "    plt.show()\n",
    "\n",
    "# Example: Plot Flow for the First Patient\n",
    "first_patient = transfers_df['subject_id'].iloc[1]\n",
    "plot_patient_flow(transfers_df, first_patient)\n"
   ]
  },
  {
   "cell_type": "markdown",
   "id": "f0b0e268",
   "metadata": {},
   "source": [
    "### 3.5 Analyze Common Patient Pathways\n"
   ]
  },
  {
   "cell_type": "code",
   "execution_count": 47,
   "id": "84032727",
   "metadata": {},
   "outputs": [
    {
     "name": "stdout",
     "output_type": "stream",
     "text": [
      "\n",
      "Most common patient pathways:\n"
     ]
    },
    {
     "name": "stderr",
     "output_type": "stream",
     "text": [
      "/var/folders/l5/2h1t38ld23b0fmqx49g_q67c0000gn/T/ipykernel_9923/895010755.py:7: DeprecationWarning:\n",
      "\n",
      "DataFrameGroupBy.apply operated on the grouping columns. This behavior is deprecated, and in a future version of pandas the grouping columns will be excluded from the operation. Either pass `include_groups=False` to exclude the groupings or explicitly select the grouping columns after groupby to silence this warning.\n",
      "\n"
     ]
    },
    {
     "data": {
      "text/plain": [
       "Emergency Department                                                                            112290\n",
       "Emergency Department -> Emergency Department                                                     18295\n",
       "Emergency Department -> Emergency Department Observation -> UNKNOWN                              16179\n",
       "Emergency Department -> Medicine -> UNKNOWN                                                       7686\n",
       "Emergency Department -> Emergency Department -> Emergency Department                              5611\n",
       "Emergency Department -> Neurology -> UNKNOWN                                                      2744\n",
       "Emergency Department -> Med/Surg -> UNKNOWN                                                       2363\n",
       "Emergency Department -> Med/Surg/Trauma -> UNKNOWN                                                2316\n",
       "Emergency Department -> Emergency Department -> Emergency Department -> Emergency Department      2254\n",
       "Emergency Department -> Surgery/Trauma -> UNKNOWN                                                 2089\n",
       "Name: count, dtype: int64"
      ]
     },
     "execution_count": 47,
     "metadata": {},
     "output_type": "execute_result"
    }
   ],
   "source": [
    "def get_patient_pathway(group):\n",
    "    \"\"\"\n",
    "    Constructs a pathway string for a patient's care units.\n",
    "    \"\"\"\n",
    "    return ' -> '.join(group['careunit'])\n",
    "\n",
    "patient_pathways = transfers_df.sort_values('intime').groupby('subject_id').apply(get_patient_pathway)\n",
    "common_pathways = patient_pathways.value_counts().head(10)\n",
    "\n",
    "print(\"\\nMost common patient pathways:\")\n",
    "common_pathways\n"
   ]
  },
  {
   "cell_type": "markdown",
   "id": "1d54d5f3",
   "metadata": {},
   "source": [
    "### 3.6 Visualize Distributions\n"
   ]
  },
  {
   "cell_type": "code",
   "execution_count": 48,
   "id": "1edc648e",
   "metadata": {},
   "outputs": [
    {
     "data": {
      "image/png": "[encoded data removed]",
      "text/plain": [
       "<Figure size 1000x600 with 1 Axes>"
      ]
     },
     "metadata": {},
     "output_type": "display_data"
    },
    {
     "data": {
      "image/png": "[encoded data removed]",
      "text/plain": [
       "<Figure size 1000x600 with 1 Axes>"
      ]
     },
     "metadata": {},
     "output_type": "display_data"
    }
   ],
   "source": [
    "# Distribution of Number of Transfers\n",
    "plt.figure(figsize=(10, 6))\n",
    "sns.histplot(movement_summary['num_transfers'], kde=True)\n",
    "plt.title('Distribution of Number of Transfers per Patient')\n",
    "plt.xlabel('Number of Transfers')\n",
    "plt.ylabel('Count')\n",
    "plt.show()\n",
    "\n",
    "# Relationship Between Number of Transfers and Length of Stay\n",
    "plt.figure(figsize=(10, 6))\n",
    "sns.scatterplot(x='num_transfers', y='total_los', data=movement_summary)\n",
    "plt.title('Relationship between Number of Transfers and Length of Stay')\n",
    "plt.xlabel('Number of Transfers')\n",
    "plt.ylabel('Total Length of Stay (hours)')\n",
    "plt.show()\n"
   ]
  },
  {
   "cell_type": "markdown",
   "id": "b8dc0354",
   "metadata": {},
   "source": [
    "## 4. Complete Patient Journey Analysis\n",
    "\n",
    "Let's combine edstays, triage, and diagnosis with hospital admissions and transfers data.\n",
    "\n"
   ]
  },
  {
   "cell_type": "code",
   "execution_count": null,
   "id": "5e54cfa5",
   "metadata": {},
   "outputs": [],
   "source": [
    "# Load datasets\n",
    "edstays_df = pd.read_csv(file_paths['edstays'])\n",
    "triage_df = pd.read_csv(file_paths['triage'])\n",
    "diagnosis_df = pd.read_csv(file_paths['diagnosis'])\n",
    "admissions_df = pd.read_csv(file_paths['admissions'])\n",
    "transfers_df = pd.read_csv(file_paths['transfers'])\n"
   ]
  },
  {
   "cell_type": "code",
   "execution_count": 18,
   "id": "4f8e1fdb",
   "metadata": {},
   "outputs": [
    {
     "data": {
      "text/html": [
       "<div>\n",
       "<style scoped>\n",
       "    .dataframe tbody tr th:only-of-type {\n",
       "        vertical-align: middle;\n",
       "    }\n",
       "\n",
       "    .dataframe tbody tr th {\n",
       "        vertical-align: top;\n",
       "    }\n",
       "\n",
       "    .dataframe thead th {\n",
       "        text-align: right;\n",
       "    }\n",
       "</style>\n",
       "<table border=\"1\" class=\"dataframe\">\n",
       "  <thead>\n",
       "    <tr style=\"text-align: right;\">\n",
       "      <th></th>\n",
       "      <th>subject_id</th>\n",
       "      <th>hadm_id</th>\n",
       "      <th>stay_id</th>\n",
       "      <th>intime_x</th>\n",
       "      <th>outtime_x</th>\n",
       "      <th>gender</th>\n",
       "      <th>race_x</th>\n",
       "      <th>arrival_transport</th>\n",
       "      <th>disposition</th>\n",
       "      <th>temperature</th>\n",
       "      <th>...</th>\n",
       "      <th>marital_status</th>\n",
       "      <th>race_y</th>\n",
       "      <th>edregtime</th>\n",
       "      <th>edouttime</th>\n",
       "      <th>hospital_expire_flag</th>\n",
       "      <th>transfer_id</th>\n",
       "      <th>eventtype</th>\n",
       "      <th>careunit</th>\n",
       "      <th>intime_y</th>\n",
       "      <th>outtime_y</th>\n",
       "    </tr>\n",
       "  </thead>\n",
       "  <tbody>\n",
       "    <tr>\n",
       "      <th>0</th>\n",
       "      <td>10000032</td>\n",
       "      <td>22595853.0</td>\n",
       "      <td>33258284</td>\n",
       "      <td>2180-05-06 19:17:00</td>\n",
       "      <td>2180-05-06 23:30:00</td>\n",
       "      <td>F</td>\n",
       "      <td>WHITE</td>\n",
       "      <td>AMBULANCE</td>\n",
       "      <td>ADMITTED</td>\n",
       "      <td>98.4</td>\n",
       "      <td>...</td>\n",
       "      <td>WIDOWED</td>\n",
       "      <td>WHITE</td>\n",
       "      <td>2180-05-06 19:17:00</td>\n",
       "      <td>2180-05-06 23:30:00</td>\n",
       "      <td>0.0</td>\n",
       "      <td>33258284.0</td>\n",
       "      <td>ED</td>\n",
       "      <td>Emergency Department</td>\n",
       "      <td>2180-05-06 19:17:00</td>\n",
       "      <td>2180-05-06 23:30:00</td>\n",
       "    </tr>\n",
       "    <tr>\n",
       "      <th>1</th>\n",
       "      <td>10000032</td>\n",
       "      <td>22595853.0</td>\n",
       "      <td>33258284</td>\n",
       "      <td>2180-05-06 19:17:00</td>\n",
       "      <td>2180-05-06 23:30:00</td>\n",
       "      <td>F</td>\n",
       "      <td>WHITE</td>\n",
       "      <td>AMBULANCE</td>\n",
       "      <td>ADMITTED</td>\n",
       "      <td>98.4</td>\n",
       "      <td>...</td>\n",
       "      <td>WIDOWED</td>\n",
       "      <td>WHITE</td>\n",
       "      <td>2180-05-06 19:17:00</td>\n",
       "      <td>2180-05-06 23:30:00</td>\n",
       "      <td>0.0</td>\n",
       "      <td>35223874.0</td>\n",
       "      <td>admit</td>\n",
       "      <td>Transplant</td>\n",
       "      <td>2180-05-06 23:30:00</td>\n",
       "      <td>2180-05-07 17:21:27</td>\n",
       "    </tr>\n",
       "    <tr>\n",
       "      <th>2</th>\n",
       "      <td>10000032</td>\n",
       "      <td>22595853.0</td>\n",
       "      <td>33258284</td>\n",
       "      <td>2180-05-06 19:17:00</td>\n",
       "      <td>2180-05-06 23:30:00</td>\n",
       "      <td>F</td>\n",
       "      <td>WHITE</td>\n",
       "      <td>AMBULANCE</td>\n",
       "      <td>ADMITTED</td>\n",
       "      <td>98.4</td>\n",
       "      <td>...</td>\n",
       "      <td>WIDOWED</td>\n",
       "      <td>WHITE</td>\n",
       "      <td>2180-05-06 19:17:00</td>\n",
       "      <td>2180-05-06 23:30:00</td>\n",
       "      <td>0.0</td>\n",
       "      <td>36904543.0</td>\n",
       "      <td>discharge</td>\n",
       "      <td>UNKNOWN</td>\n",
       "      <td>2180-05-07 17:21:27</td>\n",
       "      <td>NaT</td>\n",
       "    </tr>\n",
       "    <tr>\n",
       "      <th>3</th>\n",
       "      <td>10000032</td>\n",
       "      <td>22841357.0</td>\n",
       "      <td>38112554</td>\n",
       "      <td>2180-06-26 15:54:00</td>\n",
       "      <td>2180-06-26 21:31:00</td>\n",
       "      <td>F</td>\n",
       "      <td>WHITE</td>\n",
       "      <td>AMBULANCE</td>\n",
       "      <td>ADMITTED</td>\n",
       "      <td>98.9</td>\n",
       "      <td>...</td>\n",
       "      <td>WIDOWED</td>\n",
       "      <td>WHITE</td>\n",
       "      <td>2180-06-26 15:54:00</td>\n",
       "      <td>2180-06-26 21:31:00</td>\n",
       "      <td>0.0</td>\n",
       "      <td>34100253.0</td>\n",
       "      <td>discharge</td>\n",
       "      <td>UNKNOWN</td>\n",
       "      <td>2180-06-27 18:49:12</td>\n",
       "      <td>NaT</td>\n",
       "    </tr>\n",
       "    <tr>\n",
       "      <th>4</th>\n",
       "      <td>10000032</td>\n",
       "      <td>22841357.0</td>\n",
       "      <td>38112554</td>\n",
       "      <td>2180-06-26 15:54:00</td>\n",
       "      <td>2180-06-26 21:31:00</td>\n",
       "      <td>F</td>\n",
       "      <td>WHITE</td>\n",
       "      <td>AMBULANCE</td>\n",
       "      <td>ADMITTED</td>\n",
       "      <td>98.9</td>\n",
       "      <td>...</td>\n",
       "      <td>WIDOWED</td>\n",
       "      <td>WHITE</td>\n",
       "      <td>2180-06-26 15:54:00</td>\n",
       "      <td>2180-06-26 21:31:00</td>\n",
       "      <td>0.0</td>\n",
       "      <td>34703856.0</td>\n",
       "      <td>admit</td>\n",
       "      <td>Transplant</td>\n",
       "      <td>2180-06-26 21:31:00</td>\n",
       "      <td>2180-06-27 18:49:12</td>\n",
       "    </tr>\n",
       "  </tbody>\n",
       "</table>\n",
       "<p>5 rows × 37 columns</p>\n",
       "</div>"
      ],
      "text/plain": [
       "   subject_id     hadm_id   stay_id            intime_x           outtime_x  \\\n",
       "0    10000032  22595853.0  33258284 2180-05-06 19:17:00 2180-05-06 23:30:00   \n",
       "1    10000032  22595853.0  33258284 2180-05-06 19:17:00 2180-05-06 23:30:00   \n",
       "2    10000032  22595853.0  33258284 2180-05-06 19:17:00 2180-05-06 23:30:00   \n",
       "3    10000032  22841357.0  38112554 2180-06-26 15:54:00 2180-06-26 21:31:00   \n",
       "4    10000032  22841357.0  38112554 2180-06-26 15:54:00 2180-06-26 21:31:00   \n",
       "\n",
       "  gender race_x arrival_transport disposition  temperature  ...  \\\n",
       "0      F  WHITE         AMBULANCE    ADMITTED         98.4  ...   \n",
       "1      F  WHITE         AMBULANCE    ADMITTED         98.4  ...   \n",
       "2      F  WHITE         AMBULANCE    ADMITTED         98.4  ...   \n",
       "3      F  WHITE         AMBULANCE    ADMITTED         98.9  ...   \n",
       "4      F  WHITE         AMBULANCE    ADMITTED         98.9  ...   \n",
       "\n",
       "   marital_status  race_y            edregtime            edouttime  \\\n",
       "0         WIDOWED   WHITE  2180-05-06 19:17:00  2180-05-06 23:30:00   \n",
       "1         WIDOWED   WHITE  2180-05-06 19:17:00  2180-05-06 23:30:00   \n",
       "2         WIDOWED   WHITE  2180-05-06 19:17:00  2180-05-06 23:30:00   \n",
       "3         WIDOWED   WHITE  2180-06-26 15:54:00  2180-06-26 21:31:00   \n",
       "4         WIDOWED   WHITE  2180-06-26 15:54:00  2180-06-26 21:31:00   \n",
       "\n",
       "   hospital_expire_flag transfer_id  eventtype              careunit  \\\n",
       "0                   0.0  33258284.0         ED  Emergency Department   \n",
       "1                   0.0  35223874.0      admit            Transplant   \n",
       "2                   0.0  36904543.0  discharge               UNKNOWN   \n",
       "3                   0.0  34100253.0  discharge               UNKNOWN   \n",
       "4                   0.0  34703856.0      admit            Transplant   \n",
       "\n",
       "             intime_y           outtime_y  \n",
       "0 2180-05-06 19:17:00 2180-05-06 23:30:00  \n",
       "1 2180-05-06 23:30:00 2180-05-07 17:21:27  \n",
       "2 2180-05-07 17:21:27                 NaT  \n",
       "3 2180-06-27 18:49:12                 NaT  \n",
       "4 2180-06-26 21:31:00 2180-06-27 18:49:12  \n",
       "\n",
       "[5 rows x 37 columns]"
      ]
     },
     "execution_count": 18,
     "metadata": {},
     "output_type": "execute_result"
    },
    {
     "ename": "",
     "evalue": "",
     "output_type": "error",
     "traceback": [
      "\u001b[1;31mThe Kernel crashed while executing code in the current cell or a previous cell. \n",
      "\u001b[1;31mPlease review the code in the cell(s) to identify a possible cause of the failure. \n",
      "\u001b[1;31mClick <a href='https://aka.ms/vscodeJupyterKernelCrash'>here</a> for more info. \n",
      "\u001b[1;31mView Jupyter <a href='command:jupyter.viewOutput'>log</a> for further details."
     ]
    }
   ],
   "source": [
    "# Load datasets\n",
    "edstays_df = pd.read_csv(file_paths['edstays'])\n",
    "triage_df = pd.read_csv(file_paths['triage'])\n",
    "diagnosis_df = pd.read_csv(file_paths['diagnosis'])\n",
    "admissions_df = pd.read_csv(file_paths['admissions'])\n",
    "transfers_df = pd.read_csv(file_paths['transfers'])\n",
    "\n",
    "# Preprocess and merge datasets\n",
    "def preprocess_and_merge_data(edstays_df, triage_df, diagnosis_df, admissions_df, transfers_df):\n",
    "    # Convert datetime columns\n",
    "    datetime_columns = ['intime', 'outtime', 'admittime', 'dischtime']\n",
    "    for df in [edstays_df, triage_df, admissions_df, transfers_df]:\n",
    "        for col in datetime_columns:\n",
    "            if col in df.columns:\n",
    "                df[col] = pd.to_datetime(df[col])\n",
    "    \n",
    "    # Merge datasets\n",
    "    merged_df = edstays_df.merge(triage_df, on=['subject_id', 'stay_id'], how='left')\n",
    "    merged_df = merged_df.merge(admissions_df, on=['subject_id', 'hadm_id'], how='left')\n",
    "    merged_df = merged_df.merge(transfers_df, on=['subject_id', 'hadm_id'], how='left')\n",
    "    \n",
    "    return merged_df\n",
    "\n",
    "merged_df = preprocess_and_merge_data(edstays_df, triage_df, diagnosis_df, admissions_df, transfers_df)\n",
    "merged_df.head()\n"
   ]
  },
  {
   "cell_type": "markdown",
   "id": "4481bf7e",
   "metadata": {},
   "source": [
    "### 4.2 Calculate Lengths of Stay\n"
   ]
  },
  {
   "cell_type": "code",
   "execution_count": 10,
   "id": "f25ed021",
   "metadata": {},
   "outputs": [
    {
     "data": {
      "text/html": [
       "<div>\n",
       "<style scoped>\n",
       "    .dataframe tbody tr th:only-of-type {\n",
       "        vertical-align: middle;\n",
       "    }\n",
       "\n",
       "    .dataframe tbody tr th {\n",
       "        vertical-align: top;\n",
       "    }\n",
       "\n",
       "    .dataframe thead th {\n",
       "        text-align: right;\n",
       "    }\n",
       "</style>\n",
       "<table border=\"1\" class=\"dataframe\">\n",
       "  <thead>\n",
       "    <tr style=\"text-align: right;\">\n",
       "      <th></th>\n",
       "      <th>subject_id</th>\n",
       "      <th>hadm_id</th>\n",
       "      <th>stay_id</th>\n",
       "      <th>intime_x</th>\n",
       "      <th>outtime_x</th>\n",
       "      <th>gender</th>\n",
       "      <th>race_x</th>\n",
       "      <th>arrival_transport</th>\n",
       "      <th>disposition</th>\n",
       "      <th>temperature</th>\n",
       "      <th>...</th>\n",
       "      <th>marital_status</th>\n",
       "      <th>race_y</th>\n",
       "      <th>edregtime</th>\n",
       "      <th>edouttime</th>\n",
       "      <th>hospital_expire_flag</th>\n",
       "      <th>transfer_id</th>\n",
       "      <th>eventtype</th>\n",
       "      <th>careunit</th>\n",
       "      <th>intime_y</th>\n",
       "      <th>outtime_y</th>\n",
       "    </tr>\n",
       "  </thead>\n",
       "  <tbody>\n",
       "    <tr>\n",
       "      <th>0</th>\n",
       "      <td>10000032</td>\n",
       "      <td>22595853.0</td>\n",
       "      <td>33258284</td>\n",
       "      <td>2180-05-06 19:17:00</td>\n",
       "      <td>2180-05-06 23:30:00</td>\n",
       "      <td>F</td>\n",
       "      <td>WHITE</td>\n",
       "      <td>AMBULANCE</td>\n",
       "      <td>ADMITTED</td>\n",
       "      <td>98.4</td>\n",
       "      <td>...</td>\n",
       "      <td>WIDOWED</td>\n",
       "      <td>WHITE</td>\n",
       "      <td>2180-05-06 19:17:00</td>\n",
       "      <td>2180-05-06 23:30:00</td>\n",
       "      <td>0.0</td>\n",
       "      <td>33258284.0</td>\n",
       "      <td>ED</td>\n",
       "      <td>Emergency Department</td>\n",
       "      <td>2180-05-06 19:17:00</td>\n",
       "      <td>2180-05-06 23:30:00</td>\n",
       "    </tr>\n",
       "    <tr>\n",
       "      <th>1</th>\n",
       "      <td>10000032</td>\n",
       "      <td>22595853.0</td>\n",
       "      <td>33258284</td>\n",
       "      <td>2180-05-06 19:17:00</td>\n",
       "      <td>2180-05-06 23:30:00</td>\n",
       "      <td>F</td>\n",
       "      <td>WHITE</td>\n",
       "      <td>AMBULANCE</td>\n",
       "      <td>ADMITTED</td>\n",
       "      <td>98.4</td>\n",
       "      <td>...</td>\n",
       "      <td>WIDOWED</td>\n",
       "      <td>WHITE</td>\n",
       "      <td>2180-05-06 19:17:00</td>\n",
       "      <td>2180-05-06 23:30:00</td>\n",
       "      <td>0.0</td>\n",
       "      <td>35223874.0</td>\n",
       "      <td>admit</td>\n",
       "      <td>Transplant</td>\n",
       "      <td>2180-05-06 23:30:00</td>\n",
       "      <td>2180-05-07 17:21:27</td>\n",
       "    </tr>\n",
       "    <tr>\n",
       "      <th>2</th>\n",
       "      <td>10000032</td>\n",
       "      <td>22595853.0</td>\n",
       "      <td>33258284</td>\n",
       "      <td>2180-05-06 19:17:00</td>\n",
       "      <td>2180-05-06 23:30:00</td>\n",
       "      <td>F</td>\n",
       "      <td>WHITE</td>\n",
       "      <td>AMBULANCE</td>\n",
       "      <td>ADMITTED</td>\n",
       "      <td>98.4</td>\n",
       "      <td>...</td>\n",
       "      <td>WIDOWED</td>\n",
       "      <td>WHITE</td>\n",
       "      <td>2180-05-06 19:17:00</td>\n",
       "      <td>2180-05-06 23:30:00</td>\n",
       "      <td>0.0</td>\n",
       "      <td>36904543.0</td>\n",
       "      <td>discharge</td>\n",
       "      <td>UNKNOWN</td>\n",
       "      <td>2180-05-07 17:21:27</td>\n",
       "      <td>NaT</td>\n",
       "    </tr>\n",
       "    <tr>\n",
       "      <th>3</th>\n",
       "      <td>10000032</td>\n",
       "      <td>22595853.0</td>\n",
       "      <td>33258284</td>\n",
       "      <td>2180-05-06 19:17:00</td>\n",
       "      <td>2180-05-06 23:30:00</td>\n",
       "      <td>F</td>\n",
       "      <td>WHITE</td>\n",
       "      <td>AMBULANCE</td>\n",
       "      <td>ADMITTED</td>\n",
       "      <td>98.4</td>\n",
       "      <td>...</td>\n",
       "      <td>WIDOWED</td>\n",
       "      <td>WHITE</td>\n",
       "      <td>2180-05-06 19:17:00</td>\n",
       "      <td>2180-05-06 23:30:00</td>\n",
       "      <td>0.0</td>\n",
       "      <td>33258284.0</td>\n",
       "      <td>ED</td>\n",
       "      <td>Emergency Department</td>\n",
       "      <td>2180-05-06 19:17:00</td>\n",
       "      <td>2180-05-06 23:30:00</td>\n",
       "    </tr>\n",
       "    <tr>\n",
       "      <th>4</th>\n",
       "      <td>10000032</td>\n",
       "      <td>22595853.0</td>\n",
       "      <td>33258284</td>\n",
       "      <td>2180-05-06 19:17:00</td>\n",
       "      <td>2180-05-06 23:30:00</td>\n",
       "      <td>F</td>\n",
       "      <td>WHITE</td>\n",
       "      <td>AMBULANCE</td>\n",
       "      <td>ADMITTED</td>\n",
       "      <td>98.4</td>\n",
       "      <td>...</td>\n",
       "      <td>WIDOWED</td>\n",
       "      <td>WHITE</td>\n",
       "      <td>2180-05-06 19:17:00</td>\n",
       "      <td>2180-05-06 23:30:00</td>\n",
       "      <td>0.0</td>\n",
       "      <td>35223874.0</td>\n",
       "      <td>admit</td>\n",
       "      <td>Transplant</td>\n",
       "      <td>2180-05-06 23:30:00</td>\n",
       "      <td>2180-05-07 17:21:27</td>\n",
       "    </tr>\n",
       "  </tbody>\n",
       "</table>\n",
       "<p>5 rows × 41 columns</p>\n",
       "</div>"
      ],
      "text/plain": [
       "   subject_id     hadm_id   stay_id            intime_x           outtime_x  \\\n",
       "0    10000032  22595853.0  33258284 2180-05-06 19:17:00 2180-05-06 23:30:00   \n",
       "1    10000032  22595853.0  33258284 2180-05-06 19:17:00 2180-05-06 23:30:00   \n",
       "2    10000032  22595853.0  33258284 2180-05-06 19:17:00 2180-05-06 23:30:00   \n",
       "3    10000032  22595853.0  33258284 2180-05-06 19:17:00 2180-05-06 23:30:00   \n",
       "4    10000032  22595853.0  33258284 2180-05-06 19:17:00 2180-05-06 23:30:00   \n",
       "\n",
       "  gender race_x arrival_transport disposition  temperature  ...  \\\n",
       "0      F  WHITE         AMBULANCE    ADMITTED         98.4  ...   \n",
       "1      F  WHITE         AMBULANCE    ADMITTED         98.4  ...   \n",
       "2      F  WHITE         AMBULANCE    ADMITTED         98.4  ...   \n",
       "3      F  WHITE         AMBULANCE    ADMITTED         98.4  ...   \n",
       "4      F  WHITE         AMBULANCE    ADMITTED         98.4  ...   \n",
       "\n",
       "   marital_status  race_y            edregtime            edouttime  \\\n",
       "0         WIDOWED   WHITE  2180-05-06 19:17:00  2180-05-06 23:30:00   \n",
       "1         WIDOWED   WHITE  2180-05-06 19:17:00  2180-05-06 23:30:00   \n",
       "2         WIDOWED   WHITE  2180-05-06 19:17:00  2180-05-06 23:30:00   \n",
       "3         WIDOWED   WHITE  2180-05-06 19:17:00  2180-05-06 23:30:00   \n",
       "4         WIDOWED   WHITE  2180-05-06 19:17:00  2180-05-06 23:30:00   \n",
       "\n",
       "   hospital_expire_flag transfer_id  eventtype              careunit  \\\n",
       "0                   0.0  33258284.0         ED  Emergency Department   \n",
       "1                   0.0  35223874.0      admit            Transplant   \n",
       "2                   0.0  36904543.0  discharge               UNKNOWN   \n",
       "3                   0.0  33258284.0         ED  Emergency Department   \n",
       "4                   0.0  35223874.0      admit            Transplant   \n",
       "\n",
       "             intime_y           outtime_y  \n",
       "0 2180-05-06 19:17:00 2180-05-06 23:30:00  \n",
       "1 2180-05-06 23:30:00 2180-05-07 17:21:27  \n",
       "2 2180-05-07 17:21:27                 NaT  \n",
       "3 2180-05-06 19:17:00 2180-05-06 23:30:00  \n",
       "4 2180-05-06 23:30:00 2180-05-07 17:21:27  \n",
       "\n",
       "[5 rows x 41 columns]"
      ]
     },
     "execution_count": 10,
     "metadata": {},
     "output_type": "execute_result"
    }
   ],
   "source": [
    "# Calculate ED length of stay\n",
    "merged_df['ed_los'] = (merged_df['outtime_x'] - merged_df['intime_x']).dt.total_seconds() / 3600\n",
    "merged_df['hos_los'] = (merged_df['dischtime'] - merged_df['admittime']).dt.total_seconds() / 3600\n"
   ]
  },
  {
   "cell_type": "markdown",
   "id": "960aca88",
   "metadata": {},
   "source": [
    "### 4.2 Calculate Lengths of Stay\n"
   ]
  },
  {
   "cell_type": "code",
   "execution_count": 50,
   "id": "89bf58d9",
   "metadata": {},
   "outputs": [],
   "source": [
    "# Calculate ED length of stay\n",
    "merged_df['ed_los'] = (merged_df['outtime_x'] - merged_df['intime_x']).dt.total_seconds() / 3600\n",
    "merged_df['hos_los'] = (merged_df['dischtime'] - merged_df['admittime']).dt.total_seconds() / 3600\n"
   ]
  },
  {
   "cell_type": "markdown",
   "id": "38ca8ba6",
   "metadata": {},
   "source": [
    "### 4.3 Analyze Triage Impact on Patient Journey\n"
   ]
  },
  {
   "cell_type": "code",
   "execution_count": 51,
   "id": "75071da0",
   "metadata": {},
   "outputs": [
    {
     "name": "stdout",
     "output_type": "stream",
     "text": [
      "Impact of Triage Acuity on Patient Journey:\n",
      "          ed_los     hos_los  patient_count  icu_admission_rate\n",
      "acuity                                                         \n",
      "1.0     5.900290  178.690494         227408            0.108475\n",
      "2.0     8.214395  128.156901        1341157            0.028801\n",
      "3.0     6.684983  102.676588        2701280            0.004164\n",
      "4.0     4.018233   50.917485         338820            0.000100\n",
      "5.0     3.186539   45.487559          17822            0.000056\n"
     ]
    },
    {
     "data": {
      "image/png": "[encoded data removed]",
      "text/plain": [
       "<Figure size 1200x600 with 1 Axes>"
      ]
     },
     "metadata": {},
     "output_type": "display_data"
    }
   ],
   "source": [
    "def analyze_triage_impact(df):\n",
    "    triage_impact = df.groupby('acuity').agg({\n",
    "        'ed_los': 'mean',\n",
    "        'hos_los': 'mean',\n",
    "        'subject_id': 'count'\n",
    "    }).rename(columns={'subject_id': 'patient_count'})\n",
    "    \n",
    "    triage_impact['icu_admission_rate'] = df[df['careunit'].str.contains('ICU', na=False)].groupby('acuity')['subject_id'].count() / triage_impact['patient_count']\n",
    "    \n",
    "    return triage_impact\n",
    "\n",
    "triage_impact = analyze_triage_impact(merged_df)\n",
    "print(\"Impact of Triage Acuity on Patient Journey:\")\n",
    "print(triage_impact)\n",
    "\n",
    "# Visualize triage impact\n",
    "plt.figure(figsize=(12, 6))\n",
    "sns.barplot(x=triage_impact.index, y='ed_los', data=triage_impact)\n",
    "plt.title('Average ED Length of Stay by Triage Acuity')\n",
    "plt.xlabel('Triage Acuity')\n",
    "plt.ylabel('Average ED LOS (hours)')\n",
    "plt.show()\n"
   ]
  },
  {
   "cell_type": "markdown",
   "id": "1c8edcab",
   "metadata": {},
   "source": [
    "### 4.4 Engineer Care Unit Sequence and Create Sankey Diagrams\n",
    "\n",
    "\n",
    "We will first create a simplified Sankey diagram with fewer nodes (Admission, ED, Ward, Discharge) to understand the primary patient flow. Then, we will create a more detailed Sankey diagram.\n"
   ]
  },
  {
   "cell_type": "markdown",
   "id": "4888e82f",
   "metadata": {},
   "source": [
    "### 4.4.1 Engineer Care Unit Sequence for Simplified Diagram\n"
   ]
  },
  {
   "cell_type": "code",
   "execution_count": 52,
   "id": "e1baf4f6",
   "metadata": {},
   "outputs": [
    {
     "name": "stderr",
     "output_type": "stream",
     "text": [
      "/var/folders/l5/2h1t38ld23b0fmqx49g_q67c0000gn/T/ipykernel_9923/3402472303.py:16: FutureWarning:\n",
      "\n",
      "SeriesGroupBy.fillna is deprecated and will be removed in a future version. Use obj.ffill() or obj.bfill() for forward or backward filling instead. If you want to fill with a single value, use Series.fillna instead\n",
      "\n"
     ]
    }
   ],
   "source": [
    "def categorize_care_unit_simple(unit):\n",
    "    if pd.isna(unit) or unit == 'UNKNOWN' or unit == 'Unknown':\n",
    "        return 'Unknown'\n",
    "    elif 'Emergency' in unit:\n",
    "        return 'ED'\n",
    "    elif 'ICU' in unit or 'Intensive Care' in unit:\n",
    "        return 'Ward'  # For simplicity, include ICU in Ward\n",
    "    else:\n",
    "        return 'Ward'\n",
    "\n",
    "def engineer_care_unit_sequence_simple(df):\n",
    "    df = df.sort_values(['stay_id', 'intime_x'])\n",
    "    df['careunit_category_simple'] = df['careunit'].apply(categorize_care_unit_simple)\n",
    "    df['prev_careunit_simple'] = df.groupby('stay_id')['careunit_category_simple'].shift(1)\n",
    "    df['next_careunit_simple'] = df.groupby('stay_id')['careunit_category_simple'].shift(-1)\n",
    "    df['prev_careunit_simple'] = df.groupby('stay_id')['prev_careunit_simple'].fillna('Admission')\n",
    "    return df\n",
    "\n",
    "# Apply the simple categorization\n",
    "merged_df = engineer_care_unit_sequence_simple(merged_df)\n"
   ]
  },
  {
   "cell_type": "markdown",
   "id": "5122c2be",
   "metadata": {},
   "source": [
    "### 4.4.2 Create Simplified Sankey Diagram\n"
   ]
  },
  {
   "cell_type": "code",
   "execution_count": 53,
   "id": "5b9af266",
   "metadata": {},
   "outputs": [
    {
     "data": {
      "application/vnd.plotly.v1+json": {
       "config": {
        "plotlyServerURL": "https://plot.ly"
       },
       "data": [
        {
         "link": {
          "customdata": [
           296526,
           71048,
           86627,
           296585,
           86865,
           70905
          ],
          "hovertemplate": "%{source.label} → %{target.label}<br>Patients: %{value}<extra></extra>",
          "source": [
           0,
           0,
           1,
           1,
           2,
           2
          ],
          "target": [
           1,
           2,
           2,
           3,
           1,
           3
          ],
          "value": [
           296526,
           71048,
           86627,
           296585,
           86865,
           70905
          ]
         },
         "node": {
          "color": [
           "yellow",
           "orange",
           "lightgreen",
           "black"
          ],
          "label": [
           "Admission",
           "ED",
           "Ward",
           "Discharge"
          ],
          "line": {
           "color": "black",
           "width": 0.5
          },
          "pad": 15,
          "thickness": 20
         },
         "type": "sankey"
        }
       ],
       "layout": {
        "autosize": false,
        "font": {
         "size": 10
        },
        "height": 600,
        "template": {
         "data": {
          "bar": [
           {
            "error_x": {
             "color": "#2a3f5f"
            },
            "error_y": {
             "color": "#2a3f5f"
            },
            "marker": {
             "line": {
              "color": "#E5ECF6",
              "width": 0.5
             },
             "pattern": {
              "fillmode": "overlay",
              "size": 10,
              "solidity": 0.2
             }
            },
            "type": "bar"
           }
          ],
          "barpolar": [
           {
            "marker": {
             "line": {
              "color": "#E5ECF6",
              "width": 0.5
             },
             "pattern": {
              "fillmode": "overlay",
              "size": 10,
              "solidity": 0.2
             }
            },
            "type": "barpolar"
           }
          ],
          "carpet": [
           {
            "aaxis": {
             "endlinecolor": "#2a3f5f",
             "gridcolor": "white",
             "linecolor": "white",
             "minorgridcolor": "white",
             "startlinecolor": "#2a3f5f"
            },
            "baxis": {
             "endlinecolor": "#2a3f5f",
             "gridcolor": "white",
             "linecolor": "white",
             "minorgridcolor": "white",
             "startlinecolor": "#2a3f5f"
            },
            "type": "carpet"
           }
          ],
          "choropleth": [
           {
            "colorbar": {
             "outlinewidth": 0,
             "ticks": ""
            },
            "type": "choropleth"
           }
          ],
          "contour": [
           {
            "colorbar": {
             "outlinewidth": 0,
             "ticks": ""
            },
            "colorscale": [
             [
              0,
              "#0d0887"
             ],
             [
              0.1111111111111111,
              "#46039f"
             ],
             [
              0.2222222222222222,
              "#7201a8"
             ],
             [
              0.3333333333333333,
              "#9c179e"
             ],
             [
              0.4444444444444444,
              "#bd3786"
             ],
             [
              0.5555555555555556,
              "#d8576b"
             ],
             [
              0.6666666666666666,
              "#ed7953"
             ],
             [
              0.7777777777777778,
              "#fb9f3a"
             ],
             [
              0.8888888888888888,
              "#fdca26"
             ],
             [
              1,
              "#f0f921"
             ]
            ],
            "type": "contour"
           }
          ],
          "contourcarpet": [
           {
            "colorbar": {
             "outlinewidth": 0,
             "ticks": ""
            },
            "type": "contourcarpet"
           }
          ],
          "heatmap": [
           {
            "colorbar": {
             "outlinewidth": 0,
             "ticks": ""
            },
            "colorscale": [
             [
              0,
              "#0d0887"
             ],
             [
              0.1111111111111111,
              "#46039f"
             ],
             [
              0.2222222222222222,
              "#7201a8"
             ],
             [
              0.3333333333333333,
              "#9c179e"
             ],
             [
              0.4444444444444444,
              "#bd3786"
             ],
             [
              0.5555555555555556,
              "#d8576b"
             ],
             [
              0.6666666666666666,
              "#ed7953"
             ],
             [
              0.7777777777777778,
              "#fb9f3a"
             ],
             [
              0.8888888888888888,
              "#fdca26"
             ],
             [
              1,
              "#f0f921"
             ]
            ],
            "type": "heatmap"
           }
          ],
          "heatmapgl": [
           {
            "colorbar": {
             "outlinewidth": 0,
             "ticks": ""
            },
            "colorscale": [
             [
              0,
              "#0d0887"
             ],
             [
              0.1111111111111111,
              "#46039f"
             ],
             [
              0.2222222222222222,
              "#7201a8"
             ],
             [
              0.3333333333333333,
              "#9c179e"
             ],
             [
              0.4444444444444444,
              "#bd3786"
             ],
             [
              0.5555555555555556,
              "#d8576b"
             ],
             [
              0.6666666666666666,
              "#ed7953"
             ],
             [
              0.7777777777777778,
              "#fb9f3a"
             ],
             [
              0.8888888888888888,
              "#fdca26"
             ],
             [
              1,
              "#f0f921"
             ]
            ],
            "type": "heatmapgl"
           }
          ],
          "histogram": [
           {
            "marker": {
             "pattern": {
              "fillmode": "overlay",
              "size": 10,
              "solidity": 0.2
             }
            },
            "type": "histogram"
           }
          ],
          "histogram2d": [
           {
            "colorbar": {
             "outlinewidth": 0,
             "ticks": ""
            },
            "colorscale": [
             [
              0,
              "#0d0887"
             ],
             [
              0.1111111111111111,
              "#46039f"
             ],
             [
              0.2222222222222222,
              "#7201a8"
             ],
             [
              0.3333333333333333,
              "#9c179e"
             ],
             [
              0.4444444444444444,
              "#bd3786"
             ],
             [
              0.5555555555555556,
              "#d8576b"
             ],
             [
              0.6666666666666666,
              "#ed7953"
             ],
             [
              0.7777777777777778,
              "#fb9f3a"
             ],
             [
              0.8888888888888888,
              "#fdca26"
             ],
             [
              1,
              "#f0f921"
             ]
            ],
            "type": "histogram2d"
           }
          ],
          "histogram2dcontour": [
           {
            "colorbar": {
             "outlinewidth": 0,
             "ticks": ""
            },
            "colorscale": [
             [
              0,
              "#0d0887"
             ],
             [
              0.1111111111111111,
              "#46039f"
             ],
             [
              0.2222222222222222,
              "#7201a8"
             ],
             [
              0.3333333333333333,
              "#9c179e"
             ],
             [
              0.4444444444444444,
              "#bd3786"
             ],
             [
              0.5555555555555556,
              "#d8576b"
             ],
             [
              0.6666666666666666,
              "#ed7953"
             ],
             [
              0.7777777777777778,
              "#fb9f3a"
             ],
             [
              0.8888888888888888,
              "#fdca26"
             ],
             [
              1,
              "#f0f921"
             ]
            ],
            "type": "histogram2dcontour"
           }
          ],
          "mesh3d": [
           {
            "colorbar": {
             "outlinewidth": 0,
             "ticks": ""
            },
            "type": "mesh3d"
           }
          ],
          "parcoords": [
           {
            "line": {
             "colorbar": {
              "outlinewidth": 0,
              "ticks": ""
             }
            },
            "type": "parcoords"
           }
          ],
          "pie": [
           {
            "automargin": true,
            "type": "pie"
           }
          ],
          "scatter": [
           {
            "fillpattern": {
             "fillmode": "overlay",
             "size": 10,
             "solidity": 0.2
            },
            "type": "scatter"
           }
          ],
          "scatter3d": [
           {
            "line": {
             "colorbar": {
              "outlinewidth": 0,
              "ticks": ""
             }
            },
            "marker": {
             "colorbar": {
              "outlinewidth": 0,
              "ticks": ""
             }
            },
            "type": "scatter3d"
           }
          ],
          "scattercarpet": [
           {
            "marker": {
             "colorbar": {
              "outlinewidth": 0,
              "ticks": ""
             }
            },
            "type": "scattercarpet"
           }
          ],
          "scattergeo": [
           {
            "marker": {
             "colorbar": {
              "outlinewidth": 0,
              "ticks": ""
             }
            },
            "type": "scattergeo"
           }
          ],
          "scattergl": [
           {
            "marker": {
             "colorbar": {
              "outlinewidth": 0,
              "ticks": ""
             }
            },
            "type": "scattergl"
           }
          ],
          "scattermapbox": [
           {
            "marker": {
             "colorbar": {
              "outlinewidth": 0,
              "ticks": ""
             }
            },
            "type": "scattermapbox"
           }
          ],
          "scatterpolar": [
           {
            "marker": {
             "colorbar": {
              "outlinewidth": 0,
              "ticks": ""
             }
            },
            "type": "scatterpolar"
           }
          ],
          "scatterpolargl": [
           {
            "marker": {
             "colorbar": {
              "outlinewidth": 0,
              "ticks": ""
             }
            },
            "type": "scatterpolargl"
           }
          ],
          "scatterternary": [
           {
            "marker": {
             "colorbar": {
              "outlinewidth": 0,
              "ticks": ""
             }
            },
            "type": "scatterternary"
           }
          ],
          "surface": [
           {
            "colorbar": {
             "outlinewidth": 0,
             "ticks": ""
            },
            "colorscale": [
             [
              0,
              "#0d0887"
             ],
             [
              0.1111111111111111,
              "#46039f"
             ],
             [
              0.2222222222222222,
              "#7201a8"
             ],
             [
              0.3333333333333333,
              "#9c179e"
             ],
             [
              0.4444444444444444,
              "#bd3786"
             ],
             [
              0.5555555555555556,
              "#d8576b"
             ],
             [
              0.6666666666666666,
              "#ed7953"
             ],
             [
              0.7777777777777778,
              "#fb9f3a"
             ],
             [
              0.8888888888888888,
              "#fdca26"
             ],
             [
              1,
              "#f0f921"
             ]
            ],
            "type": "surface"
           }
          ],
          "table": [
           {
            "cells": {
             "fill": {
              "color": "#EBF0F8"
             },
             "line": {
              "color": "white"
             }
            },
            "header": {
             "fill": {
              "color": "#C8D4E3"
             },
             "line": {
              "color": "white"
             }
            },
            "type": "table"
           }
          ]
         },
         "layout": {
          "annotationdefaults": {
           "arrowcolor": "#2a3f5f",
           "arrowhead": 0,
           "arrowwidth": 1
          },
          "autotypenumbers": "strict",
          "coloraxis": {
           "colorbar": {
            "outlinewidth": 0,
            "ticks": ""
           }
          },
          "colorscale": {
           "diverging": [
            [
             0,
             "#8e0152"
            ],
            [
             0.1,
             "#c51b7d"
            ],
            [
             0.2,
             "#de77ae"
            ],
            [
             0.3,
             "#f1b6da"
            ],
            [
             0.4,
             "#fde0ef"
            ],
            [
             0.5,
             "#f7f7f7"
            ],
            [
             0.6,
             "#e6f5d0"
            ],
            [
             0.7,
             "#b8e186"
            ],
            [
             0.8,
             "#7fbc41"
            ],
            [
             0.9,
             "#4d9221"
            ],
            [
             1,
             "#276419"
            ]
           ],
           "sequential": [
            [
             0,
             "#0d0887"
            ],
            [
             0.1111111111111111,
             "#46039f"
            ],
            [
             0.2222222222222222,
             "#7201a8"
            ],
            [
             0.3333333333333333,
             "#9c179e"
            ],
            [
             0.4444444444444444,
             "#bd3786"
            ],
            [
             0.5555555555555556,
             "#d8576b"
            ],
            [
             0.6666666666666666,
             "#ed7953"
            ],
            [
             0.7777777777777778,
             "#fb9f3a"
            ],
            [
             0.8888888888888888,
             "#fdca26"
            ],
            [
             1,
             "#f0f921"
            ]
           ],
           "sequentialminus": [
            [
             0,
             "#0d0887"
            ],
            [
             0.1111111111111111,
             "#46039f"
            ],
            [
             0.2222222222222222,
             "#7201a8"
            ],
            [
             0.3333333333333333,
             "#9c179e"
            ],
            [
             0.4444444444444444,
             "#bd3786"
            ],
            [
             0.5555555555555556,
             "#d8576b"
            ],
            [
             0.6666666666666666,
             "#ed7953"
            ],
            [
             0.7777777777777778,
             "#fb9f3a"
            ],
            [
             0.8888888888888888,
             "#fdca26"
            ],
            [
             1,
             "#f0f921"
            ]
           ]
          },
          "colorway": [
           "#636efa",
           "#EF553B",
           "#00cc96",
           "#ab63fa",
           "#FFA15A",
           "#19d3f3",
           "#FF6692",
           "#B6E880",
           "#FF97FF",
           "#FECB52"
          ],
          "font": {
           "color": "#2a3f5f"
          },
          "geo": {
           "bgcolor": "white",
           "lakecolor": "white",
           "landcolor": "#E5ECF6",
           "showlakes": true,
           "showland": true,
           "subunitcolor": "white"
          },
          "hoverlabel": {
           "align": "left"
          },
          "hovermode": "closest",
          "mapbox": {
           "style": "light"
          },
          "paper_bgcolor": "white",
          "plot_bgcolor": "#E5ECF6",
          "polar": {
           "angularaxis": {
            "gridcolor": "white",
            "linecolor": "white",
            "ticks": ""
           },
           "bgcolor": "#E5ECF6",
           "radialaxis": {
            "gridcolor": "white",
            "linecolor": "white",
            "ticks": ""
           }
          },
          "scene": {
           "xaxis": {
            "backgroundcolor": "#E5ECF6",
            "gridcolor": "white",
            "gridwidth": 2,
            "linecolor": "white",
            "showbackground": true,
            "ticks": "",
            "zerolinecolor": "white"
           },
           "yaxis": {
            "backgroundcolor": "#E5ECF6",
            "gridcolor": "white",
            "gridwidth": 2,
            "linecolor": "white",
            "showbackground": true,
            "ticks": "",
            "zerolinecolor": "white"
           },
           "zaxis": {
            "backgroundcolor": "#E5ECF6",
            "gridcolor": "white",
            "gridwidth": 2,
            "linecolor": "white",
            "showbackground": true,
            "ticks": "",
            "zerolinecolor": "white"
           }
          },
          "shapedefaults": {
           "line": {
            "color": "#2a3f5f"
           }
          },
          "ternary": {
           "aaxis": {
            "gridcolor": "white",
            "linecolor": "white",
            "ticks": ""
           },
           "baxis": {
            "gridcolor": "white",
            "linecolor": "white",
            "ticks": ""
           },
           "bgcolor": "#E5ECF6",
           "caxis": {
            "gridcolor": "white",
            "linecolor": "white",
            "ticks": ""
           }
          },
          "title": {
           "x": 0.05
          },
          "xaxis": {
           "automargin": true,
           "gridcolor": "white",
           "linecolor": "white",
           "ticks": "",
           "title": {
            "standoff": 15
           },
           "zerolinecolor": "white",
           "zerolinewidth": 2
          },
          "yaxis": {
           "automargin": true,
           "gridcolor": "white",
           "linecolor": "white",
           "ticks": "",
           "title": {
            "standoff": 15
           },
           "zerolinecolor": "white",
           "zerolinewidth": 2
          }
         }
        },
        "title": {
         "text": "Simplified Patient Flow Sankey Diagram"
        },
        "width": 800
       }
      }
     },
     "metadata": {},
     "output_type": "display_data"
    }
   ],
   "source": [
    "def create_sankey_diagram_simple(df):\n",
    "    stages = ['Admission', 'ED', 'Ward', 'Discharge']\n",
    "    color_scheme = {'Admission': 'yellow', 'ED': 'orange', 'Ward': 'lightgreen', 'Discharge': 'black'}\n",
    "    \n",
    "    # Calculate flows\n",
    "    flows = {}\n",
    "    for source in stages[:-1]:\n",
    "        for target in stages[1:]:\n",
    "            if source == target:\n",
    "                continue\n",
    "            if source == 'Admission':\n",
    "                count = df[(df['prev_careunit_simple'] == 'Admission') & (df['careunit_category_simple'] == target)]['stay_id'].nunique()\n",
    "            elif target == 'Discharge':\n",
    "                count = df[(df['careunit_category_simple'] == source) & (df['next_careunit_simple'].isna())]['stay_id'].nunique()\n",
    "            else:\n",
    "                count = df[(df['careunit_category_simple'] == source) & (df['next_careunit_simple'] == target)]['stay_id'].nunique()\n",
    "            if count > 0:\n",
    "                flows[(source, target)] = count\n",
    "    \n",
    "    # Create Sankey diagram\n",
    "    fig = go.Figure(data=[go.Sankey(\n",
    "        node=dict(\n",
    "            pad=15,\n",
    "            thickness=20,\n",
    "            line=dict(color=\"black\", width=0.5),\n",
    "            label=stages,\n",
    "            color=[color_scheme[stage] for stage in stages]\n",
    "        ),\n",
    "        link=dict(\n",
    "            source=[stages.index(s) for s, _ in flows.keys()],\n",
    "            target=[stages.index(t) for _, t in flows.keys()],\n",
    "            value=list(flows.values()),\n",
    "            customdata=list(flows.values()),\n",
    "            hovertemplate='%{source.label} → %{target.label}<br>Patients: %{value}<extra></extra>'\n",
    "        )\n",
    "    )])\n",
    "\n",
    "    fig.update_layout(\n",
    "        title_text=\"Simplified Patient Flow Sankey Diagram\",\n",
    "        font_size=10,\n",
    "        autosize=False,\n",
    "        width=800,\n",
    "        height=600\n",
    "    )\n",
    "    fig.show()\n",
    "\n",
    "# Create the simplified Sankey diagram\n",
    "create_sankey_diagram_simple(merged_df)\n"
   ]
  },
  {
   "cell_type": "markdown",
   "id": "c5db73d2",
   "metadata": {},
   "source": [
    "### 4.4.3 Engineer Care Unit Sequence for Detailed Diagram\n"
   ]
  },
  {
   "cell_type": "code",
   "execution_count": 62,
   "id": "925549fe",
   "metadata": {},
   "outputs": [
    {
     "name": "stderr",
     "output_type": "stream",
     "text": [
      "/var/folders/l5/2h1t38ld23b0fmqx49g_q67c0000gn/T/ipykernel_9923/2046589412.py:30: FutureWarning:\n",
      "\n",
      "SeriesGroupBy.fillna is deprecated and will be removed in a future version. Use obj.ffill() or obj.bfill() for forward or backward filling instead. If you want to fill with a single value, use Series.fillna instead\n",
      "\n"
     ]
    }
   ],
   "source": [
    "def categorize_care_unit_detailed(unit):\n",
    "    if pd.isna(unit) or unit == 'UNKNOWN' or unit == 'Unknown':\n",
    "        return 'Unknown'\n",
    "    elif 'Emergency' in unit:\n",
    "        return 'ED'\n",
    "    elif 'ICU' in unit or 'Intensive Care' in unit:\n",
    "        return 'ICU'\n",
    "    elif 'Intermediate' in unit or 'Stepdown' in unit:\n",
    "        return 'Intermediate Care'\n",
    "    elif 'Obstetrics' in unit or 'Labor & Delivery' in unit:\n",
    "        return 'Obstetrics'\n",
    "    elif 'Cardiology' in unit or 'Cardiac' in unit:\n",
    "        return 'Cardiology'\n",
    "    elif 'Surgery' in unit or 'PACU' in unit:\n",
    "        return 'Surgery'\n",
    "    elif 'Neuro' in unit:\n",
    "        return 'Neurology'\n",
    "    elif 'Psychiatry' in unit:\n",
    "        return 'Psychiatry'\n",
    "    elif 'Oncology' in unit:\n",
    "        return 'Oncology'\n",
    "    else:\n",
    "        return 'General Ward'\n",
    "\n",
    "def engineer_care_unit_sequence_detailed(df):\n",
    "    df = df.sort_values(['stay_id', 'intime_x'])\n",
    "    df['careunit_category_detailed'] = df['careunit'].apply(categorize_care_unit_detailed)\n",
    "    df['prev_careunit_detailed'] = df.groupby('stay_id')['careunit_category_detailed'].shift(1)\n",
    "    df['next_careunit_detailed'] = df.groupby('stay_id')['careunit_category_detailed'].shift(-1)\n",
    "    df['prev_careunit_detailed'] = df.groupby('stay_id')['prev_careunit_detailed'].fillna('Admission')\n",
    "    return df\n",
    "\n",
    "# Apply the detailed categorization\n",
    "merged_df = engineer_care_unit_sequence_detailed(merged_df)\n"
   ]
  },
  {
   "cell_type": "markdown",
   "id": "46c6ac2a",
   "metadata": {},
   "source": [
    "### 4.4.4 Create Detailed Sankey Diagram\n"
   ]
  },
  {
   "cell_type": "code",
   "execution_count": 68,
   "id": "1b576653",
   "metadata": {},
   "outputs": [
    {
     "data": {
      "application/vnd.plotly.v1+json": {
       "config": {
        "plotlyServerURL": "https://plot.ly"
       },
       "data": [
        {
         "link": {
          "customdata": [
           296526,
           43371,
           7413,
           3417,
           3421,
           4937,
           4739,
           3326,
           318,
           106,
           57513,
           54100,
           8880,
           3777,
           4069,
           6058,
           5762,
           4026,
           427,
           116,
           95353,
           296585,
           54152,
           8315,
           1041,
           2852,
           2008,
           1015,
           930,
           51,
           50968,
           43440,
           8884,
           8334,
           812,
           919,
           763,
           1413,
           684,
           16,
           8652,
           7409,
           3792,
           1050,
           800,
           262,
           184,
           594,
           13,
           2,
           3731,
           3272,
           4153,
           2774,
           918,
           297,
           331,
           312,
           81,
           20,
           3984,
           3390,
           6149,
           1997,
           762,
           179,
           313,
           42,
           30,
           2,
           5710,
           4898,
           5763,
           1050,
           1512,
           585,
           317,
           36,
           66,
           4,
           5468,
           4822,
           3993,
           909,
           714,
           14,
           94,
           26,
           71,
           2,
           3887,
           3243,
           427,
           58,
           17,
           2,
           10,
           5,
           2,
           411,
           336,
           114,
           118,
           95,
           95239,
           51205,
           8641,
           3622,
           3995,
           5732,
           5665,
           3845,
           410,
           104,
           57597
          ],
          "hovertemplate": "%{source.label} → %{target.label}<br>Patients: %{value}<extra></extra>",
          "source": [
           0,
           0,
           0,
           0,
           0,
           0,
           0,
           0,
           0,
           0,
           0,
           1,
           1,
           1,
           1,
           1,
           1,
           1,
           1,
           1,
           1,
           1,
           2,
           2,
           2,
           2,
           2,
           2,
           2,
           2,
           2,
           2,
           3,
           3,
           3,
           3,
           3,
           3,
           3,
           3,
           3,
           3,
           4,
           4,
           4,
           4,
           4,
           4,
           4,
           4,
           4,
           4,
           5,
           5,
           5,
           5,
           5,
           5,
           5,
           5,
           5,
           5,
           6,
           6,
           6,
           6,
           6,
           6,
           6,
           6,
           6,
           6,
           7,
           7,
           7,
           7,
           7,
           7,
           7,
           7,
           7,
           7,
           8,
           8,
           8,
           8,
           8,
           8,
           8,
           8,
           8,
           8,
           9,
           9,
           9,
           9,
           9,
           9,
           9,
           9,
           9,
           10,
           10,
           10,
           11,
           11,
           11,
           11,
           11,
           11,
           11,
           11,
           11,
           11,
           11
          ],
          "target": [
           1,
           2,
           3,
           4,
           5,
           6,
           7,
           8,
           9,
           10,
           11,
           2,
           3,
           4,
           5,
           6,
           7,
           8,
           9,
           10,
           11,
           12,
           1,
           3,
           4,
           5,
           6,
           7,
           8,
           9,
           11,
           12,
           1,
           2,
           4,
           5,
           6,
           7,
           8,
           9,
           11,
           12,
           1,
           2,
           3,
           5,
           6,
           7,
           8,
           9,
           11,
           12,
           1,
           2,
           3,
           4,
           6,
           7,
           8,
           9,
           11,
           12,
           1,
           2,
           3,
           4,
           5,
           7,
           8,
           9,
           11,
           12,
           1,
           2,
           3,
           4,
           5,
           6,
           8,
           9,
           11,
           12,
           1,
           2,
           3,
           4,
           5,
           6,
           7,
           9,
           11,
           12,
           1,
           2,
           3,
           4,
           5,
           6,
           7,
           11,
           12,
           1,
           11,
           12,
           1,
           2,
           3,
           4,
           5,
           6,
           7,
           8,
           9,
           10,
           12
          ],
          "value": [
           296526,
           43371,
           7413,
           3417,
           3421,
           4937,
           4739,
           3326,
           318,
           106,
           57513,
           54100,
           8880,
           3777,
           4069,
           6058,
           5762,
           4026,
           427,
           116,
           95353,
           296585,
           54152,
           8315,
           1041,
           2852,
           2008,
           1015,
           930,
           51,
           50968,
           43440,
           8884,
           8334,
           812,
           919,
           763,
           1413,
           684,
           16,
           8652,
           7409,
           3792,
           1050,
           800,
           262,
           184,
           594,
           13,
           2,
           3731,
           3272,
           4153,
           2774,
           918,
           297,
           331,
           312,
           81,
           20,
           3984,
           3390,
           6149,
           1997,
           762,
           179,
           313,
           42,
           30,
           2,
           5710,
           4898,
           5763,
           1050,
           1512,
           585,
           317,
           36,
           66,
           4,
           5468,
           4822,
           3993,
           909,
           714,
           14,
           94,
           26,
           71,
           2,
           3887,
           3243,
           427,
           58,
           17,
           2,
           10,
           5,
           2,
           411,
           336,
           114,
           118,
           95,
           95239,
           51205,
           8641,
           3622,
           3995,
           5732,
           5665,
           3845,
           410,
           104,
           57597
          ]
         },
         "node": {
          "color": [
           "yellow",
           "orange",
           "lightgreen",
           "red",
           "pink",
           "purple",
           "lightblue",
           "blue",
           "green",
           "cyan",
           "magenta",
           "gray",
           "black"
          ],
          "customdata": [
           425087,
           958345,
           329620,
           75858,
           27446,
           32512,
           40162,
           39238,
           25954,
           2520,
           653,
           471850,
           425087
          ],
          "hovertemplate": "%{label}<br>Patients: %{customdata}<extra></extra>",
          "label": [
           "Admission",
           "ED",
           "General Ward",
           "ICU",
           "Intermediate Care",
           "Surgery",
           "Cardiology",
           "Neurology",
           "Oncology",
           "Obstetrics",
           "Psychiatry",
           "Unknown",
           "Discharge"
          ],
          "line": {
           "color": "black",
           "width": 0.5
          },
          "pad": 15,
          "thickness": 20
         },
         "type": "sankey"
        }
       ],
       "layout": {
        "autosize": false,
        "font": {
         "size": 10
        },
        "height": 800,
        "template": {
         "data": {
          "bar": [
           {
            "error_x": {
             "color": "#2a3f5f"
            },
            "error_y": {
             "color": "#2a3f5f"
            },
            "marker": {
             "line": {
              "color": "#E5ECF6",
              "width": 0.5
             },
             "pattern": {
              "fillmode": "overlay",
              "size": 10,
              "solidity": 0.2
             }
            },
            "type": "bar"
           }
          ],
          "barpolar": [
           {
            "marker": {
             "line": {
              "color": "#E5ECF6",
              "width": 0.5
             },
             "pattern": {
              "fillmode": "overlay",
              "size": 10,
              "solidity": 0.2
             }
            },
            "type": "barpolar"
           }
          ],
          "carpet": [
           {
            "aaxis": {
             "endlinecolor": "#2a3f5f",
             "gridcolor": "white",
             "linecolor": "white",
             "minorgridcolor": "white",
             "startlinecolor": "#2a3f5f"
            },
            "baxis": {
             "endlinecolor": "#2a3f5f",
             "gridcolor": "white",
             "linecolor": "white",
             "minorgridcolor": "white",
             "startlinecolor": "#2a3f5f"
            },
            "type": "carpet"
           }
          ],
          "choropleth": [
           {
            "colorbar": {
             "outlinewidth": 0,
             "ticks": ""
            },
            "type": "choropleth"
           }
          ],
          "contour": [
           {
            "colorbar": {
             "outlinewidth": 0,
             "ticks": ""
            },
            "colorscale": [
             [
              0,
              "#0d0887"
             ],
             [
              0.1111111111111111,
              "#46039f"
             ],
             [
              0.2222222222222222,
              "#7201a8"
             ],
             [
              0.3333333333333333,
              "#9c179e"
             ],
             [
              0.4444444444444444,
              "#bd3786"
             ],
             [
              0.5555555555555556,
              "#d8576b"
             ],
             [
              0.6666666666666666,
              "#ed7953"
             ],
             [
              0.7777777777777778,
              "#fb9f3a"
             ],
             [
              0.8888888888888888,
              "#fdca26"
             ],
             [
              1,
              "#f0f921"
             ]
            ],
            "type": "contour"
           }
          ],
          "contourcarpet": [
           {
            "colorbar": {
             "outlinewidth": 0,
             "ticks": ""
            },
            "type": "contourcarpet"
           }
          ],
          "heatmap": [
           {
            "colorbar": {
             "outlinewidth": 0,
             "ticks": ""
            },
            "colorscale": [
             [
              0,
              "#0d0887"
             ],
             [
              0.1111111111111111,
              "#46039f"
             ],
             [
              0.2222222222222222,
              "#7201a8"
             ],
             [
              0.3333333333333333,
              "#9c179e"
             ],
             [
              0.4444444444444444,
              "#bd3786"
             ],
             [
              0.5555555555555556,
              "#d8576b"
             ],
             [
              0.6666666666666666,
              "#ed7953"
             ],
             [
              0.7777777777777778,
              "#fb9f3a"
             ],
             [
              0.8888888888888888,
              "#fdca26"
             ],
             [
              1,
              "#f0f921"
             ]
            ],
            "type": "heatmap"
           }
          ],
          "heatmapgl": [
           {
            "colorbar": {
             "outlinewidth": 0,
             "ticks": ""
            },
            "colorscale": [
             [
              0,
              "#0d0887"
             ],
             [
              0.1111111111111111,
              "#46039f"
             ],
             [
              0.2222222222222222,
              "#7201a8"
             ],
             [
              0.3333333333333333,
              "#9c179e"
             ],
             [
              0.4444444444444444,
              "#bd3786"
             ],
             [
              0.5555555555555556,
              "#d8576b"
             ],
             [
              0.6666666666666666,
              "#ed7953"
             ],
             [
              0.7777777777777778,
              "#fb9f3a"
             ],
             [
              0.8888888888888888,
              "#fdca26"
             ],
             [
              1,
              "#f0f921"
             ]
            ],
            "type": "heatmapgl"
           }
          ],
          "histogram": [
           {
            "marker": {
             "pattern": {
              "fillmode": "overlay",
              "size": 10,
              "solidity": 0.2
             }
            },
            "type": "histogram"
           }
          ],
          "histogram2d": [
           {
            "colorbar": {
             "outlinewidth": 0,
             "ticks": ""
            },
            "colorscale": [
             [
              0,
              "#0d0887"
             ],
             [
              0.1111111111111111,
              "#46039f"
             ],
             [
              0.2222222222222222,
              "#7201a8"
             ],
             [
              0.3333333333333333,
              "#9c179e"
             ],
             [
              0.4444444444444444,
              "#bd3786"
             ],
             [
              0.5555555555555556,
              "#d8576b"
             ],
             [
              0.6666666666666666,
              "#ed7953"
             ],
             [
              0.7777777777777778,
              "#fb9f3a"
             ],
             [
              0.8888888888888888,
              "#fdca26"
             ],
             [
              1,
              "#f0f921"
             ]
            ],
            "type": "histogram2d"
           }
          ],
          "histogram2dcontour": [
           {
            "colorbar": {
             "outlinewidth": 0,
             "ticks": ""
            },
            "colorscale": [
             [
              0,
              "#0d0887"
             ],
             [
              0.1111111111111111,
              "#46039f"
             ],
             [
              0.2222222222222222,
              "#7201a8"
             ],
             [
              0.3333333333333333,
              "#9c179e"
             ],
             [
              0.4444444444444444,
              "#bd3786"
             ],
             [
              0.5555555555555556,
              "#d8576b"
             ],
             [
              0.6666666666666666,
              "#ed7953"
             ],
             [
              0.7777777777777778,
              "#fb9f3a"
             ],
             [
              0.8888888888888888,
              "#fdca26"
             ],
             [
              1,
              "#f0f921"
             ]
            ],
            "type": "histogram2dcontour"
           }
          ],
          "mesh3d": [
           {
            "colorbar": {
             "outlinewidth": 0,
             "ticks": ""
            },
            "type": "mesh3d"
           }
          ],
          "parcoords": [
           {
            "line": {
             "colorbar": {
              "outlinewidth": 0,
              "ticks": ""
             }
            },
            "type": "parcoords"
           }
          ],
          "pie": [
           {
            "automargin": true,
            "type": "pie"
           }
          ],
          "scatter": [
           {
            "fillpattern": {
             "fillmode": "overlay",
             "size": 10,
             "solidity": 0.2
            },
            "type": "scatter"
           }
          ],
          "scatter3d": [
           {
            "line": {
             "colorbar": {
              "outlinewidth": 0,
              "ticks": ""
             }
            },
            "marker": {
             "colorbar": {
              "outlinewidth": 0,
              "ticks": ""
             }
            },
            "type": "scatter3d"
           }
          ],
          "scattercarpet": [
           {
            "marker": {
             "colorbar": {
              "outlinewidth": 0,
              "ticks": ""
             }
            },
            "type": "scattercarpet"
           }
          ],
          "scattergeo": [
           {
            "marker": {
             "colorbar": {
              "outlinewidth": 0,
              "ticks": ""
             }
            },
            "type": "scattergeo"
           }
          ],
          "scattergl": [
           {
            "marker": {
             "colorbar": {
              "outlinewidth": 0,
              "ticks": ""
             }
            },
            "type": "scattergl"
           }
          ],
          "scattermapbox": [
           {
            "marker": {
             "colorbar": {
              "outlinewidth": 0,
              "ticks": ""
             }
            },
            "type": "scattermapbox"
           }
          ],
          "scatterpolar": [
           {
            "marker": {
             "colorbar": {
              "outlinewidth": 0,
              "ticks": ""
             }
            },
            "type": "scatterpolar"
           }
          ],
          "scatterpolargl": [
           {
            "marker": {
             "colorbar": {
              "outlinewidth": 0,
              "ticks": ""
             }
            },
            "type": "scatterpolargl"
           }
          ],
          "scatterternary": [
           {
            "marker": {
             "colorbar": {
              "outlinewidth": 0,
              "ticks": ""
             }
            },
            "type": "scatterternary"
           }
          ],
          "surface": [
           {
            "colorbar": {
             "outlinewidth": 0,
             "ticks": ""
            },
            "colorscale": [
             [
              0,
              "#0d0887"
             ],
             [
              0.1111111111111111,
              "#46039f"
             ],
             [
              0.2222222222222222,
              "#7201a8"
             ],
             [
              0.3333333333333333,
              "#9c179e"
             ],
             [
              0.4444444444444444,
              "#bd3786"
             ],
             [
              0.5555555555555556,
              "#d8576b"
             ],
             [
              0.6666666666666666,
              "#ed7953"
             ],
             [
              0.7777777777777778,
              "#fb9f3a"
             ],
             [
              0.8888888888888888,
              "#fdca26"
             ],
             [
              1,
              "#f0f921"
             ]
            ],
            "type": "surface"
           }
          ],
          "table": [
           {
            "cells": {
             "fill": {
              "color": "#EBF0F8"
             },
             "line": {
              "color": "white"
             }
            },
            "header": {
             "fill": {
              "color": "#C8D4E3"
             },
             "line": {
              "color": "white"
             }
            },
            "type": "table"
           }
          ]
         },
         "layout": {
          "annotationdefaults": {
           "arrowcolor": "#2a3f5f",
           "arrowhead": 0,
           "arrowwidth": 1
          },
          "autotypenumbers": "strict",
          "coloraxis": {
           "colorbar": {
            "outlinewidth": 0,
            "ticks": ""
           }
          },
          "colorscale": {
           "diverging": [
            [
             0,
             "#8e0152"
            ],
            [
             0.1,
             "#c51b7d"
            ],
            [
             0.2,
             "#de77ae"
            ],
            [
             0.3,
             "#f1b6da"
            ],
            [
             0.4,
             "#fde0ef"
            ],
            [
             0.5,
             "#f7f7f7"
            ],
            [
             0.6,
             "#e6f5d0"
            ],
            [
             0.7,
             "#b8e186"
            ],
            [
             0.8,
             "#7fbc41"
            ],
            [
             0.9,
             "#4d9221"
            ],
            [
             1,
             "#276419"
            ]
           ],
           "sequential": [
            [
             0,
             "#0d0887"
            ],
            [
             0.1111111111111111,
             "#46039f"
            ],
            [
             0.2222222222222222,
             "#7201a8"
            ],
            [
             0.3333333333333333,
             "#9c179e"
            ],
            [
             0.4444444444444444,
             "#bd3786"
            ],
            [
             0.5555555555555556,
             "#d8576b"
            ],
            [
             0.6666666666666666,
             "#ed7953"
            ],
            [
             0.7777777777777778,
             "#fb9f3a"
            ],
            [
             0.8888888888888888,
             "#fdca26"
            ],
            [
             1,
             "#f0f921"
            ]
           ],
           "sequentialminus": [
            [
             0,
             "#0d0887"
            ],
            [
             0.1111111111111111,
             "#46039f"
            ],
            [
             0.2222222222222222,
             "#7201a8"
            ],
            [
             0.3333333333333333,
             "#9c179e"
            ],
            [
             0.4444444444444444,
             "#bd3786"
            ],
            [
             0.5555555555555556,
             "#d8576b"
            ],
            [
             0.6666666666666666,
             "#ed7953"
            ],
            [
             0.7777777777777778,
             "#fb9f3a"
            ],
            [
             0.8888888888888888,
             "#fdca26"
            ],
            [
             1,
             "#f0f921"
            ]
           ]
          },
          "colorway": [
           "#636efa",
           "#EF553B",
           "#00cc96",
           "#ab63fa",
           "#FFA15A",
           "#19d3f3",
           "#FF6692",
           "#B6E880",
           "#FF97FF",
           "#FECB52"
          ],
          "font": {
           "color": "#2a3f5f"
          },
          "geo": {
           "bgcolor": "white",
           "lakecolor": "white",
           "landcolor": "#E5ECF6",
           "showlakes": true,
           "showland": true,
           "subunitcolor": "white"
          },
          "hoverlabel": {
           "align": "left"
          },
          "hovermode": "closest",
          "mapbox": {
           "style": "light"
          },
          "paper_bgcolor": "white",
          "plot_bgcolor": "#E5ECF6",
          "polar": {
           "angularaxis": {
            "gridcolor": "white",
            "linecolor": "white",
            "ticks": ""
           },
           "bgcolor": "#E5ECF6",
           "radialaxis": {
            "gridcolor": "white",
            "linecolor": "white",
            "ticks": ""
           }
          },
          "scene": {
           "xaxis": {
            "backgroundcolor": "#E5ECF6",
            "gridcolor": "white",
            "gridwidth": 2,
            "linecolor": "white",
            "showbackground": true,
            "ticks": "",
            "zerolinecolor": "white"
           },
           "yaxis": {
            "backgroundcolor": "#E5ECF6",
            "gridcolor": "white",
            "gridwidth": 2,
            "linecolor": "white",
            "showbackground": true,
            "ticks": "",
            "zerolinecolor": "white"
           },
           "zaxis": {
            "backgroundcolor": "#E5ECF6",
            "gridcolor": "white",
            "gridwidth": 2,
            "linecolor": "white",
            "showbackground": true,
            "ticks": "",
            "zerolinecolor": "white"
           }
          },
          "shapedefaults": {
           "line": {
            "color": "#2a3f5f"
           }
          },
          "ternary": {
           "aaxis": {
            "gridcolor": "white",
            "linecolor": "white",
            "ticks": ""
           },
           "baxis": {
            "gridcolor": "white",
            "linecolor": "white",
            "ticks": ""
           },
           "bgcolor": "#E5ECF6",
           "caxis": {
            "gridcolor": "white",
            "linecolor": "white",
            "ticks": ""
           }
          },
          "title": {
           "x": 0.05
          },
          "xaxis": {
           "automargin": true,
           "gridcolor": "white",
           "linecolor": "white",
           "ticks": "",
           "title": {
            "standoff": 15
           },
           "zerolinecolor": "white",
           "zerolinewidth": 2
          },
          "yaxis": {
           "automargin": true,
           "gridcolor": "white",
           "linecolor": "white",
           "ticks": "",
           "title": {
            "standoff": 15
           },
           "zerolinecolor": "white",
           "zerolinewidth": 2
          }
         }
        },
        "title": {
         "text": "Detailed Patient Flow Sankey Diagram"
        },
        "width": 1200
       }
      }
     },
     "metadata": {},
     "output_type": "display_data"
    }
   ],
   "source": [
    "\n",
    "def calculate_flows(df, stages, prev_col, curr_col, next_col):\n",
    "    flows = {}\n",
    "    for source in stages:\n",
    "        for target in stages:\n",
    "            if source == target:\n",
    "                continue\n",
    "            if source == 'Admission':\n",
    "                count = df[(df[prev_col] == 'Admission') & (df[curr_col] == target)]['stay_id'].nunique()\n",
    "            elif target == 'Discharge':\n",
    "                count = df[(df[curr_col] == source) & (df[next_col].isna())]['stay_id'].nunique()\n",
    "            else:\n",
    "                count = df[(df[curr_col] == source) & (df[next_col] == target)]['stay_id'].nunique()\n",
    "            if count > 0:\n",
    "                flows[(source, target)] = count\n",
    "    return flows\n",
    "\n",
    "def calculate_node_sizes(flows, stages):\n",
    "    node_sizes = defaultdict(int)\n",
    "    for (source, target), value in flows.items():\n",
    "        node_sizes[source] += value\n",
    "        node_sizes[target] += value\n",
    "    node_sizes_list = [node_sizes.get(stage, 0) for stage in stages]\n",
    "    return node_sizes_list\n",
    "\n",
    "def create_detailed_sankey_diagram(df):\n",
    "    # Define stages and colors\n",
    "    stages = ['Admission', 'ED', 'General Ward', 'ICU', 'Intermediate Care', 'Surgery', 'Cardiology', 'Neurology', 'Oncology', 'Obstetrics', 'Psychiatry', 'Unknown', 'Discharge']\n",
    "    color_scheme = {'Admission': 'yellow', 'ED': 'orange', 'General Ward': 'lightgreen', \n",
    "                    'ICU': 'red', 'Intermediate Care': 'pink', 'Surgery': 'purple', \n",
    "                    'Cardiology': 'lightblue', 'Neurology': 'blue', 'Oncology': 'green', \n",
    "                    'Obstetrics': 'cyan', 'Psychiatry': 'magenta', 'Unknown': 'gray', \n",
    "                    'Discharge': 'black'}\n",
    "\n",
    "    flows = calculate_flows(df, stages, 'prev_careunit_detailed', 'careunit_category_detailed', 'next_careunit_detailed')\n",
    "    node_sizes = calculate_node_sizes(flows, stages)\n",
    "\n",
    "    fig = go.Figure(data=[go.Sankey(\n",
    "        node=dict(\n",
    "            pad=15,\n",
    "            thickness=20,\n",
    "            line=dict(color=\"black\", width=0.5),\n",
    "            label=stages,\n",
    "            color=[color_scheme[stage] for stage in stages],\n",
    "            customdata=node_sizes,\n",
    "            hovertemplate='%{label}<br>Patients: %{customdata}<extra></extra>'\n",
    "        ),\n",
    "        link=dict(\n",
    "            source=[stages.index(s) for s, _ in flows.keys()],\n",
    "            target=[stages.index(t) for _, t in flows.keys()],\n",
    "            value=list(flows.values()),\n",
    "            customdata=list(flows.values()),\n",
    "            hovertemplate='%{source.label} → %{target.label}<br>Patients: %{value}<extra></extra>'\n",
    "        )\n",
    "    )])\n",
    "\n",
    "    fig.update_layout(\n",
    "        title_text=\"Detailed Patient Flow Sankey Diagram\",\n",
    "        font_size=10,\n",
    "        autosize=False,\n",
    "        width=1200,\n",
    "        height=800\n",
    "    )\n",
    "    fig.show()\n",
    "\n",
    "# Create the detailed Sankey diagram\n",
    "create_detailed_sankey_diagram(merged_df)\n"
   ]
  },
  {
   "cell_type": "code",
   "execution_count": 69,
   "id": "5d0303fc",
   "metadata": {},
   "outputs": [
    {
     "name": "stderr",
     "output_type": "stream",
     "text": [
      "/var/folders/l5/2h1t38ld23b0fmqx49g_q67c0000gn/T/ipykernel_9923/1027767545.py:20: FutureWarning:\n",
      "\n",
      "SeriesGroupBy.fillna is deprecated and will be removed in a future version. Use obj.ffill() or obj.bfill() for forward or backward filling instead. If you want to fill with a single value, use Series.fillna instead\n",
      "\n"
     ]
    }
   ],
   "source": [
    "def map_to_grouped_care_unit(unit):\n",
    "    if unit in ['ICU', 'Intermediate Care']:\n",
    "        return 'Critical Care'\n",
    "    elif unit in ['Surgery', 'Cardiology', 'Neurology', 'Oncology', 'Obstetrics', 'Psychiatry']:\n",
    "        return 'Specialty Care'\n",
    "    elif unit == 'General Ward':\n",
    "        return 'General Ward'\n",
    "    elif unit == 'ED':\n",
    "        return 'ED'\n",
    "    elif unit == 'Unknown':\n",
    "        return 'Unknown'\n",
    "    else:\n",
    "        return unit  # Keep as is or categorize as needed\n",
    "\n",
    "def engineer_care_unit_sequence_grouped(df):\n",
    "    df = df.sort_values(['stay_id', 'intime_x'])\n",
    "    df['careunit_category_grouped'] = df['careunit_category_detailed'].apply(map_to_grouped_care_unit)\n",
    "    df['prev_careunit_grouped'] = df.groupby('stay_id')['careunit_category_grouped'].shift(1)\n",
    "    df['next_careunit_grouped'] = df.groupby('stay_id')['careunit_category_grouped'].shift(-1)\n",
    "    df['prev_careunit_grouped'] = df.groupby('stay_id')['prev_careunit_grouped'].fillna('Admission')\n",
    "    return df\n",
    "\n",
    "# Apply the grouping function\n",
    "merged_df = engineer_care_unit_sequence_grouped(merged_df)\n"
   ]
  },
  {
   "cell_type": "code",
   "execution_count": 71,
   "id": "9bd78b1b",
   "metadata": {},
   "outputs": [
    {
     "data": {
      "application/vnd.plotly.v1+json": {
       "config": {
        "plotlyServerURL": "https://plot.ly"
       },
       "data": [
        {
         "link": {
          "customdata": [
           296526,
           10830,
           16847,
           43371,
           57513,
           12651,
           20441,
           54100,
           95353,
           296585,
           12669,
           4721,
           9329,
           12383,
           10681,
           20573,
           4856,
           6672,
           19577,
           16784,
           54152,
           9306,
           6747,
           50968,
           43440,
           95239,
           12263,
           19750,
           51205,
           57597
          ],
          "hovertemplate": "%{source.label} → %{target.label}<br>Patients: %{value}<extra></extra>",
          "source": [
           0,
           0,
           0,
           0,
           0,
           1,
           1,
           1,
           1,
           1,
           2,
           2,
           2,
           2,
           2,
           3,
           3,
           3,
           3,
           3,
           4,
           4,
           4,
           4,
           4,
           5,
           5,
           5,
           5,
           5
          ],
          "target": [
           1,
           2,
           3,
           4,
           5,
           2,
           3,
           4,
           5,
           6,
           1,
           3,
           4,
           5,
           6,
           1,
           2,
           4,
           5,
           6,
           1,
           2,
           3,
           5,
           6,
           1,
           2,
           3,
           4,
           6
          ],
          "value": [
           296526,
           10830,
           16847,
           43371,
           57513,
           12651,
           20441,
           54100,
           95353,
           296585,
           12669,
           4721,
           9329,
           12383,
           10681,
           20573,
           4856,
           6672,
           19577,
           16784,
           54152,
           9306,
           6747,
           50968,
           43440,
           95239,
           12263,
           19750,
           51205,
           57597
          ]
         },
         "node": {
          "color": [
           "yellow",
           "orange",
           "red",
           "blue",
           "lightgreen",
           "gray",
           "black"
          ],
          "customdata": [
           425087,
           958289,
           99689,
           136968,
           329290,
           471848,
           425087
          ],
          "hovertemplate": "%{label}<br>Patients: %{customdata}<extra></extra>",
          "label": [
           "Admission",
           "ED",
           "Critical Care",
           "Specialty Care",
           "General Ward",
           "Unknown",
           "Discharge"
          ],
          "line": {
           "color": "black",
           "width": 0.5
          },
          "pad": 15,
          "thickness": 20
         },
         "type": "sankey"
        }
       ],
       "layout": {
        "autosize": false,
        "font": {
         "size": 10
        },
        "height": 600,
        "template": {
         "data": {
          "bar": [
           {
            "error_x": {
             "color": "#2a3f5f"
            },
            "error_y": {
             "color": "#2a3f5f"
            },
            "marker": {
             "line": {
              "color": "#E5ECF6",
              "width": 0.5
             },
             "pattern": {
              "fillmode": "overlay",
              "size": 10,
              "solidity": 0.2
             }
            },
            "type": "bar"
           }
          ],
          "barpolar": [
           {
            "marker": {
             "line": {
              "color": "#E5ECF6",
              "width": 0.5
             },
             "pattern": {
              "fillmode": "overlay",
              "size": 10,
              "solidity": 0.2
             }
            },
            "type": "barpolar"
           }
          ],
          "carpet": [
           {
            "aaxis": {
             "endlinecolor": "#2a3f5f",
             "gridcolor": "white",
             "linecolor": "white",
             "minorgridcolor": "white",
             "startlinecolor": "#2a3f5f"
            },
            "baxis": {
             "endlinecolor": "#2a3f5f",
             "gridcolor": "white",
             "linecolor": "white",
             "minorgridcolor": "white",
             "startlinecolor": "#2a3f5f"
            },
            "type": "carpet"
           }
          ],
          "choropleth": [
           {
            "colorbar": {
             "outlinewidth": 0,
             "ticks": ""
            },
            "type": "choropleth"
           }
          ],
          "contour": [
           {
            "colorbar": {
             "outlinewidth": 0,
             "ticks": ""
            },
            "colorscale": [
             [
              0,
              "#0d0887"
             ],
             [
              0.1111111111111111,
              "#46039f"
             ],
             [
              0.2222222222222222,
              "#7201a8"
             ],
             [
              0.3333333333333333,
              "#9c179e"
             ],
             [
              0.4444444444444444,
              "#bd3786"
             ],
             [
              0.5555555555555556,
              "#d8576b"
             ],
             [
              0.6666666666666666,
              "#ed7953"
             ],
             [
              0.7777777777777778,
              "#fb9f3a"
             ],
             [
              0.8888888888888888,
              "#fdca26"
             ],
             [
              1,
              "#f0f921"
             ]
            ],
            "type": "contour"
           }
          ],
          "contourcarpet": [
           {
            "colorbar": {
             "outlinewidth": 0,
             "ticks": ""
            },
            "type": "contourcarpet"
           }
          ],
          "heatmap": [
           {
            "colorbar": {
             "outlinewidth": 0,
             "ticks": ""
            },
            "colorscale": [
             [
              0,
              "#0d0887"
             ],
             [
              0.1111111111111111,
              "#46039f"
             ],
             [
              0.2222222222222222,
              "#7201a8"
             ],
             [
              0.3333333333333333,
              "#9c179e"
             ],
             [
              0.4444444444444444,
              "#bd3786"
             ],
             [
              0.5555555555555556,
              "#d8576b"
             ],
             [
              0.6666666666666666,
              "#ed7953"
             ],
             [
              0.7777777777777778,
              "#fb9f3a"
             ],
             [
              0.8888888888888888,
              "#fdca26"
             ],
             [
              1,
              "#f0f921"
             ]
            ],
            "type": "heatmap"
           }
          ],
          "heatmapgl": [
           {
            "colorbar": {
             "outlinewidth": 0,
             "ticks": ""
            },
            "colorscale": [
             [
              0,
              "#0d0887"
             ],
             [
              0.1111111111111111,
              "#46039f"
             ],
             [
              0.2222222222222222,
              "#7201a8"
             ],
             [
              0.3333333333333333,
              "#9c179e"
             ],
             [
              0.4444444444444444,
              "#bd3786"
             ],
             [
              0.5555555555555556,
              "#d8576b"
             ],
             [
              0.6666666666666666,
              "#ed7953"
             ],
             [
              0.7777777777777778,
              "#fb9f3a"
             ],
             [
              0.8888888888888888,
              "#fdca26"
             ],
             [
              1,
              "#f0f921"
             ]
            ],
            "type": "heatmapgl"
           }
          ],
          "histogram": [
           {
            "marker": {
             "pattern": {
              "fillmode": "overlay",
              "size": 10,
              "solidity": 0.2
             }
            },
            "type": "histogram"
           }
          ],
          "histogram2d": [
           {
            "colorbar": {
             "outlinewidth": 0,
             "ticks": ""
            },
            "colorscale": [
             [
              0,
              "#0d0887"
             ],
             [
              0.1111111111111111,
              "#46039f"
             ],
             [
              0.2222222222222222,
              "#7201a8"
             ],
             [
              0.3333333333333333,
              "#9c179e"
             ],
             [
              0.4444444444444444,
              "#bd3786"
             ],
             [
              0.5555555555555556,
              "#d8576b"
             ],
             [
              0.6666666666666666,
              "#ed7953"
             ],
             [
              0.7777777777777778,
              "#fb9f3a"
             ],
             [
              0.8888888888888888,
              "#fdca26"
             ],
             [
              1,
              "#f0f921"
             ]
            ],
            "type": "histogram2d"
           }
          ],
          "histogram2dcontour": [
           {
            "colorbar": {
             "outlinewidth": 0,
             "ticks": ""
            },
            "colorscale": [
             [
              0,
              "#0d0887"
             ],
             [
              0.1111111111111111,
              "#46039f"
             ],
             [
              0.2222222222222222,
              "#7201a8"
             ],
             [
              0.3333333333333333,
              "#9c179e"
             ],
             [
              0.4444444444444444,
              "#bd3786"
             ],
             [
              0.5555555555555556,
              "#d8576b"
             ],
             [
              0.6666666666666666,
              "#ed7953"
             ],
             [
              0.7777777777777778,
              "#fb9f3a"
             ],
             [
              0.8888888888888888,
              "#fdca26"
             ],
             [
              1,
              "#f0f921"
             ]
            ],
            "type": "histogram2dcontour"
           }
          ],
          "mesh3d": [
           {
            "colorbar": {
             "outlinewidth": 0,
             "ticks": ""
            },
            "type": "mesh3d"
           }
          ],
          "parcoords": [
           {
            "line": {
             "colorbar": {
              "outlinewidth": 0,
              "ticks": ""
             }
            },
            "type": "parcoords"
           }
          ],
          "pie": [
           {
            "automargin": true,
            "type": "pie"
           }
          ],
          "scatter": [
           {
            "fillpattern": {
             "fillmode": "overlay",
             "size": 10,
             "solidity": 0.2
            },
            "type": "scatter"
           }
          ],
          "scatter3d": [
           {
            "line": {
             "colorbar": {
              "outlinewidth": 0,
              "ticks": ""
             }
            },
            "marker": {
             "colorbar": {
              "outlinewidth": 0,
              "ticks": ""
             }
            },
            "type": "scatter3d"
           }
          ],
          "scattercarpet": [
           {
            "marker": {
             "colorbar": {
              "outlinewidth": 0,
              "ticks": ""
             }
            },
            "type": "scattercarpet"
           }
          ],
          "scattergeo": [
           {
            "marker": {
             "colorbar": {
              "outlinewidth": 0,
              "ticks": ""
             }
            },
            "type": "scattergeo"
           }
          ],
          "scattergl": [
           {
            "marker": {
             "colorbar": {
              "outlinewidth": 0,
              "ticks": ""
             }
            },
            "type": "scattergl"
           }
          ],
          "scattermapbox": [
           {
            "marker": {
             "colorbar": {
              "outlinewidth": 0,
              "ticks": ""
             }
            },
            "type": "scattermapbox"
           }
          ],
          "scatterpolar": [
           {
            "marker": {
             "colorbar": {
              "outlinewidth": 0,
              "ticks": ""
             }
            },
            "type": "scatterpolar"
           }
          ],
          "scatterpolargl": [
           {
            "marker": {
             "colorbar": {
              "outlinewidth": 0,
              "ticks": ""
             }
            },
            "type": "scatterpolargl"
           }
          ],
          "scatterternary": [
           {
            "marker": {
             "colorbar": {
              "outlinewidth": 0,
              "ticks": ""
             }
            },
            "type": "scatterternary"
           }
          ],
          "surface": [
           {
            "colorbar": {
             "outlinewidth": 0,
             "ticks": ""
            },
            "colorscale": [
             [
              0,
              "#0d0887"
             ],
             [
              0.1111111111111111,
              "#46039f"
             ],
             [
              0.2222222222222222,
              "#7201a8"
             ],
             [
              0.3333333333333333,
              "#9c179e"
             ],
             [
              0.4444444444444444,
              "#bd3786"
             ],
             [
              0.5555555555555556,
              "#d8576b"
             ],
             [
              0.6666666666666666,
              "#ed7953"
             ],
             [
              0.7777777777777778,
              "#fb9f3a"
             ],
             [
              0.8888888888888888,
              "#fdca26"
             ],
             [
              1,
              "#f0f921"
             ]
            ],
            "type": "surface"
           }
          ],
          "table": [
           {
            "cells": {
             "fill": {
              "color": "#EBF0F8"
             },
             "line": {
              "color": "white"
             }
            },
            "header": {
             "fill": {
              "color": "#C8D4E3"
             },
             "line": {
              "color": "white"
             }
            },
            "type": "table"
           }
          ]
         },
         "layout": {
          "annotationdefaults": {
           "arrowcolor": "#2a3f5f",
           "arrowhead": 0,
           "arrowwidth": 1
          },
          "autotypenumbers": "strict",
          "coloraxis": {
           "colorbar": {
            "outlinewidth": 0,
            "ticks": ""
           }
          },
          "colorscale": {
           "diverging": [
            [
             0,
             "#8e0152"
            ],
            [
             0.1,
             "#c51b7d"
            ],
            [
             0.2,
             "#de77ae"
            ],
            [
             0.3,
             "#f1b6da"
            ],
            [
             0.4,
             "#fde0ef"
            ],
            [
             0.5,
             "#f7f7f7"
            ],
            [
             0.6,
             "#e6f5d0"
            ],
            [
             0.7,
             "#b8e186"
            ],
            [
             0.8,
             "#7fbc41"
            ],
            [
             0.9,
             "#4d9221"
            ],
            [
             1,
             "#276419"
            ]
           ],
           "sequential": [
            [
             0,
             "#0d0887"
            ],
            [
             0.1111111111111111,
             "#46039f"
            ],
            [
             0.2222222222222222,
             "#7201a8"
            ],
            [
             0.3333333333333333,
             "#9c179e"
            ],
            [
             0.4444444444444444,
             "#bd3786"
            ],
            [
             0.5555555555555556,
             "#d8576b"
            ],
            [
             0.6666666666666666,
             "#ed7953"
            ],
            [
             0.7777777777777778,
             "#fb9f3a"
            ],
            [
             0.8888888888888888,
             "#fdca26"
            ],
            [
             1,
             "#f0f921"
            ]
           ],
           "sequentialminus": [
            [
             0,
             "#0d0887"
            ],
            [
             0.1111111111111111,
             "#46039f"
            ],
            [
             0.2222222222222222,
             "#7201a8"
            ],
            [
             0.3333333333333333,
             "#9c179e"
            ],
            [
             0.4444444444444444,
             "#bd3786"
            ],
            [
             0.5555555555555556,
             "#d8576b"
            ],
            [
             0.6666666666666666,
             "#ed7953"
            ],
            [
             0.7777777777777778,
             "#fb9f3a"
            ],
            [
             0.8888888888888888,
             "#fdca26"
            ],
            [
             1,
             "#f0f921"
            ]
           ]
          },
          "colorway": [
           "#636efa",
           "#EF553B",
           "#00cc96",
           "#ab63fa",
           "#FFA15A",
           "#19d3f3",
           "#FF6692",
           "#B6E880",
           "#FF97FF",
           "#FECB52"
          ],
          "font": {
           "color": "#2a3f5f"
          },
          "geo": {
           "bgcolor": "white",
           "lakecolor": "white",
           "landcolor": "#E5ECF6",
           "showlakes": true,
           "showland": true,
           "subunitcolor": "white"
          },
          "hoverlabel": {
           "align": "left"
          },
          "hovermode": "closest",
          "mapbox": {
           "style": "light"
          },
          "paper_bgcolor": "white",
          "plot_bgcolor": "#E5ECF6",
          "polar": {
           "angularaxis": {
            "gridcolor": "white",
            "linecolor": "white",
            "ticks": ""
           },
           "bgcolor": "#E5ECF6",
           "radialaxis": {
            "gridcolor": "white",
            "linecolor": "white",
            "ticks": ""
           }
          },
          "scene": {
           "xaxis": {
            "backgroundcolor": "#E5ECF6",
            "gridcolor": "white",
            "gridwidth": 2,
            "linecolor": "white",
            "showbackground": true,
            "ticks": "",
            "zerolinecolor": "white"
           },
           "yaxis": {
            "backgroundcolor": "#E5ECF6",
            "gridcolor": "white",
            "gridwidth": 2,
            "linecolor": "white",
            "showbackground": true,
            "ticks": "",
            "zerolinecolor": "white"
           },
           "zaxis": {
            "backgroundcolor": "#E5ECF6",
            "gridcolor": "white",
            "gridwidth": 2,
            "linecolor": "white",
            "showbackground": true,
            "ticks": "",
            "zerolinecolor": "white"
           }
          },
          "shapedefaults": {
           "line": {
            "color": "#2a3f5f"
           }
          },
          "ternary": {
           "aaxis": {
            "gridcolor": "white",
            "linecolor": "white",
            "ticks": ""
           },
           "baxis": {
            "gridcolor": "white",
            "linecolor": "white",
            "ticks": ""
           },
           "bgcolor": "#E5ECF6",
           "caxis": {
            "gridcolor": "white",
            "linecolor": "white",
            "ticks": ""
           }
          },
          "title": {
           "x": 0.05
          },
          "xaxis": {
           "automargin": true,
           "gridcolor": "white",
           "linecolor": "white",
           "ticks": "",
           "title": {
            "standoff": 15
           },
           "zerolinecolor": "white",
           "zerolinewidth": 2
          },
          "yaxis": {
           "automargin": true,
           "gridcolor": "white",
           "linecolor": "white",
           "ticks": "",
           "title": {
            "standoff": 15
           },
           "zerolinecolor": "white",
           "zerolinewidth": 2
          }
         }
        },
        "title": {
         "text": "Grouped Patient Flow Sankey Diagram"
        },
        "width": 1000
       }
      }
     },
     "metadata": {},
     "output_type": "display_data"
    },
    {
     "ename": "",
     "evalue": "",
     "output_type": "error",
     "traceback": [
      "\u001b[1;31mThe Kernel crashed while executing code in the current cell or a previous cell. \n",
      "\u001b[1;31mPlease review the code in the cell(s) to identify a possible cause of the failure. \n",
      "\u001b[1;31mClick <a href='https://aka.ms/vscodeJupyterKernelCrash'>here</a> for more info. \n",
      "\u001b[1;31mView Jupyter <a href='command:jupyter.viewOutput'>log</a> for further details."
     ]
    }
   ],
   "source": [
    "def create_grouped_sankey_diagram(df):\n",
    "    # Define grouped stages and colors\n",
    "    stages = ['Admission', 'ED', 'Critical Care', 'Specialty Care', 'General Ward', 'Unknown', 'Discharge']\n",
    "    color_scheme = {\n",
    "        'Admission': 'yellow',\n",
    "        'ED': 'orange',\n",
    "        'Critical Care': 'red',\n",
    "        'Specialty Care': 'blue',\n",
    "        'General Ward': 'lightgreen',\n",
    "        'Unknown': 'gray',\n",
    "        'Discharge': 'black'\n",
    "    }\n",
    "    \n",
    "    # Calculate flows using the grouped categories\n",
    "    flows = calculate_flows(df, stages, 'prev_careunit_grouped', 'careunit_category_grouped', 'next_careunit_grouped')\n",
    "    node_sizes = calculate_node_sizes(flows, stages)\n",
    "    \n",
    "    # Create the Sankey diagram\n",
    "    fig = go.Figure(data=[go.Sankey(\n",
    "        node=dict(\n",
    "            pad=15,\n",
    "            thickness=20,\n",
    "            line=dict(color=\"black\", width=0.5),\n",
    "            label=stages,\n",
    "            color=[color_scheme[stage] for stage in stages],\n",
    "            customdata=node_sizes,\n",
    "            hovertemplate='%{label}<br>Patients: %{customdata}<extra></extra>'\n",
    "        ),\n",
    "        link=dict(\n",
    "            source=[stages.index(s) for s, _ in flows.keys()],\n",
    "            target=[stages.index(t) for _, t in flows.keys()],\n",
    "            value=list(flows.values()),\n",
    "            customdata=list(flows.values()),\n",
    "            hovertemplate='%{source.label} → %{target.label}<br>Patients: %{value}<extra></extra>'\n",
    "        )\n",
    "    )])\n",
    "\n",
    "    fig.update_layout(\n",
    "        title_text=\"Grouped Patient Flow Sankey Diagram\",\n",
    "        font_size=10,\n",
    "        autosize=False,\n",
    "        width=1000,\n",
    "        height=600\n",
    "    )\n",
    "    fig.show()\n",
    "\n",
    "create_grouped_sankey_diagram(merged_df)"
   ]
  }
 ],
 "metadata": {
  "kernelspec": {
   "display_name": "Python 3 (ipykernel)",
   "language": "python",
   "name": "python3"
  },
  "language_info": {
   "codemirror_mode": {
    "name": "ipython",
    "version": 3
   },
   "file_extension": ".py",
   "mimetype": "text/x-python",
   "name": "python",
   "nbconvert_exporter": "python",
   "pygments_lexer": "ipython3",
   "version": "3.10.0"
  }
 },
 "nbformat": 4,
 "nbformat_minor": 5
}
