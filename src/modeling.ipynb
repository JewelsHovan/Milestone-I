{
 "cells": [
  {
   "cell_type": "code",
   "execution_count": null,
   "metadata": {},
   "outputs": [],
   "source": [
    "%load_ext autoreload\n",
    "%autoreload 2"
   ]
  },
  {
   "cell_type": "code",
   "execution_count": null,
   "metadata": {},
   "outputs": [],
   "source": [
    "\n",
    "\n",
    "import numpy as np\n",
    "import pandas as pd\n",
    "import matplotlib.pyplot as plt\n",
    "import seaborn as sns\n",
    "\n",
    "from data.data_loader import DataLoader\n",
    "from preprocessing.ed_stay_preprocessor import EDStayPreprocessor\n",
    "from preprocessing.admissions_preprocessor import AdmissionsPreprocessor\n",
    "from preprocessing.diagnosis_preprocessor import DiagnosisPreprocessor\n",
    "from preprocessing.triage_preprocessor import TriagePreprocessor\n",
    "from preprocessing.vitalsigns_preprocessor import VitalSignsPreprocessor\n",
    "from data.data_merger import DataMerger\n",
    "from data.data_loader import DataLoader\n",
    "\n"
   ]
  },
  {
   "cell_type": "code",
   "execution_count": null,
   "metadata": {},
   "outputs": [],
   "source": [
    "# Define file paths\n",
    "file_paths = {\n",
    "    'edstays': \"../ED/edstays.csv\",\n",
    "    'admissions': \"../HOSP/admissions.csv\",\n",
    "    'transfers': \"../HOSP/transfers.csv\",\n",
    "    'diagnosis': \"../ED/diagnosis.csv\",\n",
    "    'triage': \"../ED/triage.csv\",\n",
    "    'vitalsigns': '../ED/vitalsign.csv',\n",
    "    'medrecon': '../ED/medrecon.csv',\n",
    "    'disease_categories': \"../Data/disease_categories.csv\"\n",
    "}"
   ]
  },
  {
   "cell_type": "code",
   "execution_count": null,
   "metadata": {},
   "outputs": [],
   "source": [
    "# Load data\n",
    "ed_stays = DataLoader.load_csv(file_paths['edstays'])\n",
    "admissions = DataLoader.load_csv(file_paths['admissions'])\n",
    "diagnosis = DataLoader.load_csv(file_paths['diagnosis'])\n",
    "triage = DataLoader.load_csv(file_paths['triage'])\n",
    "vitalsigns = DataLoader.load_csv(file_paths['vitalsigns'])"
   ]
  },
  {
   "cell_type": "code",
   "execution_count": null,
   "metadata": {},
   "outputs": [],
   "source": [
    "ed_preprocessor = EDStayPreprocessor()\n",
    "ed_stays_preprocessed = ed_preprocessor.preprocess(ed_stays)\n",
    "\n",
    "admissions_preprocessor = AdmissionsPreprocessor()\n",
    "admissions_preprocessed = admissions_preprocessor.preprocess(admissions)"
   ]
  },
  {
   "cell_type": "code",
   "execution_count": null,
   "metadata": {},
   "outputs": [
    {
     "name": "stderr",
     "output_type": "stream",
     "text": [
      "/Users/julienh/Desktop/MADS/Milestone1/src/preprocessing/diagnosis_preprocessor.py:15: SettingWithCopyWarning: \n",
      "A value is trying to be set on a copy of a slice from a DataFrame.\n",
      "Try using .loc[row_indexer,col_indexer] = value instead\n",
      "\n",
      "See the caveats in the documentation: https://pandas.pydata.org/pandas-docs/stable/user_guide/indexing.html#returning-a-view-versus-a-copy\n",
      "  df['category_code'] = df['icd_code'].str[:3]\n",
      "/Users/julienh/Desktop/MADS/Milestone1/src/preprocessing/diagnosis_preprocessor.py:16: SettingWithCopyWarning: \n",
      "A value is trying to be set on a copy of a slice from a DataFrame.\n",
      "Try using .loc[row_indexer,col_indexer] = value instead\n",
      "\n",
      "See the caveats in the documentation: https://pandas.pydata.org/pandas-docs/stable/user_guide/indexing.html#returning-a-view-versus-a-copy\n",
      "  df['letter_code'] = df['category_code'].str[0]\n",
      "/Users/julienh/Desktop/MADS/Milestone1/src/preprocessing/diagnosis_preprocessor.py:19: SettingWithCopyWarning: \n",
      "A value is trying to be set on a copy of a slice from a DataFrame.\n",
      "Try using .loc[row_indexer,col_indexer] = value instead\n",
      "\n",
      "See the caveats in the documentation: https://pandas.pydata.org/pandas-docs/stable/user_guide/indexing.html#returning-a-view-versus-a-copy\n",
      "  df['category_code'] = df['category_code'].astype('category')\n",
      "/Users/julienh/Desktop/MADS/Milestone1/src/preprocessing/diagnosis_preprocessor.py:20: SettingWithCopyWarning: \n",
      "A value is trying to be set on a copy of a slice from a DataFrame.\n",
      "Try using .loc[row_indexer,col_indexer] = value instead\n",
      "\n",
      "See the caveats in the documentation: https://pandas.pydata.org/pandas-docs/stable/user_guide/indexing.html#returning-a-view-versus-a-copy\n",
      "  df['icd_code'] = df['icd_code'].astype('category')\n",
      "/Users/julienh/Desktop/MADS/Milestone1/src/preprocessing/diagnosis_preprocessor.py:21: SettingWithCopyWarning: \n",
      "A value is trying to be set on a copy of a slice from a DataFrame.\n",
      "Try using .loc[row_indexer,col_indexer] = value instead\n",
      "\n",
      "See the caveats in the documentation: https://pandas.pydata.org/pandas-docs/stable/user_guide/indexing.html#returning-a-view-versus-a-copy\n",
      "  df['letter_code'] = df['letter_code'].astype('category')\n",
      "[nltk_data] Downloading package punkt to /Users/julienh/nltk_data...\n",
      "[nltk_data]   Package punkt is already up-to-date!\n",
      "[nltk_data] Downloading package stopwords to\n",
      "[nltk_data]     /Users/julienh/nltk_data...\n",
      "[nltk_data]   Package stopwords is already up-to-date!\n",
      "[nltk_data] Downloading package wordnet to /Users/julienh/nltk_data...\n",
      "[nltk_data]   Package wordnet is already up-to-date!\n",
      "/Users/julienh/Desktop/MADS/Milestone1/src/preprocessing/vitalsigns_preprocessor.py:13: FutureWarning: Series.fillna with 'method' is deprecated and will raise in a future version. Use obj.ffill() or obj.bfill() instead.\n",
      "  df_cleaned['pain'] = df_cleaned['pain'].fillna(method='ffill')\n",
      "/Users/julienh/Desktop/MADS/Milestone1/src/preprocessing/vitalsigns_preprocessor.py:13: SettingWithCopyWarning: \n",
      "A value is trying to be set on a copy of a slice from a DataFrame.\n",
      "Try using .loc[row_indexer,col_indexer] = value instead\n",
      "\n",
      "See the caveats in the documentation: https://pandas.pydata.org/pandas-docs/stable/user_guide/indexing.html#returning-a-view-versus-a-copy\n",
      "  df_cleaned['pain'] = df_cleaned['pain'].fillna(method='ffill')\n"
     ]
    }
   ],
   "source": [
    "diagnosis_preprocessor = DiagnosisPreprocessor()\n",
    "diagnosis_preprocessed = diagnosis_preprocessor.preprocess(\n",
    "    diagnosis,\n",
    "    disease_categories_path=file_paths['disease_categories']\n",
    ")\n",
    "\n",
    "triage_preprocessor = TriagePreprocessor()\n",
    "triage_preprocessed = triage_preprocessor.preprocess(triage)\n",
    "\n",
    "vitalsigns_preprocessor = VitalSignsPreprocessor()\n",
    "vitalsigns_preprocessed = vitalsigns_preprocessor.preprocess(vitalsigns)\n"
   ]
  },
  {
   "cell_type": "code",
   "execution_count": null,
   "metadata": {},
   "outputs": [],
   "source": [
    "ed_stays_preprocessed.head()"
   ]
  }
 ],
 "metadata": {
  "kernelspec": {
   "display_name": ".venv",
   "language": "python",
   "name": "python3"
  },
  "language_info": {
   "codemirror_mode": {
    "name": "ipython",
    "version": 3
   },
   "file_extension": ".py",
   "mimetype": "text/x-python",
   "name": "python",
   "nbconvert_exporter": "python",
   "pygments_lexer": "ipython3",
   "version": "3.12.5"
  }
 },
 "nbformat": 4,
 "nbformat_minor": 2
}
