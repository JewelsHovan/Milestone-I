{
 "cells": [
  {
   "cell_type": "code",
   "execution_count": 1,
   "metadata": {},
   "outputs": [],
   "source": [
    "%load_ext autoreload\n",
    "%autoreload 2"
   ]
  },
  {
   "cell_type": "code",
   "execution_count": 2,
   "metadata": {},
   "outputs": [],
   "source": [
    "from data.data_loader import DataLoader\n",
    "from data.data_merger import DataMerger"
   ]
  },
  {
   "cell_type": "code",
   "execution_count": 5,
   "metadata": {},
   "outputs": [
    {
     "ename": "ImportError",
     "evalue": "attempted relative import with no known parent package",
     "output_type": "error",
     "traceback": [
      "\u001b[0;31m---------------------------------------------------------------------------\u001b[0m",
      "\u001b[0;31mImportError\u001b[0m                               Traceback (most recent call last)",
      "Cell \u001b[0;32mIn[5], line 11\u001b[0m\n\u001b[1;32m      8\u001b[0m \u001b[38;5;28;01mimport\u001b[39;00m \u001b[38;5;21;01mmatplotlib\u001b[39;00m\u001b[38;5;21;01m.\u001b[39;00m\u001b[38;5;21;01mpyplot\u001b[39;00m \u001b[38;5;28;01mas\u001b[39;00m \u001b[38;5;21;01mplt\u001b[39;00m\n\u001b[1;32m      9\u001b[0m \u001b[38;5;28;01mimport\u001b[39;00m \u001b[38;5;21;01mseaborn\u001b[39;00m \u001b[38;5;28;01mas\u001b[39;00m \u001b[38;5;21;01msns\u001b[39;00m\n\u001b[0;32m---> 11\u001b[0m \u001b[38;5;28;01mfrom\u001b[39;00m \u001b[38;5;21;01m.\u001b[39;00m\u001b[38;5;21;01m.\u001b[39;00m\u001b[38;5;21;01mdata\u001b[39;00m\u001b[38;5;21;01m.\u001b[39;00m\u001b[38;5;21;01mdata_loader\u001b[39;00m \u001b[38;5;28;01mimport\u001b[39;00m DataLoader\n\u001b[1;32m     12\u001b[0m \u001b[38;5;28;01mfrom\u001b[39;00m \u001b[38;5;21;01msrc\u001b[39;00m\u001b[38;5;21;01m.\u001b[39;00m\u001b[38;5;21;01mpreprocessing\u001b[39;00m\u001b[38;5;21;01m.\u001b[39;00m\u001b[38;5;21;01med_stay_preprocessor\u001b[39;00m \u001b[38;5;28;01mimport\u001b[39;00m EDStayPreprocessor\n\u001b[1;32m     13\u001b[0m \u001b[38;5;28;01mfrom\u001b[39;00m \u001b[38;5;21;01msrc\u001b[39;00m\u001b[38;5;21;01m.\u001b[39;00m\u001b[38;5;21;01mpreprocessing\u001b[39;00m\u001b[38;5;21;01m.\u001b[39;00m\u001b[38;5;21;01madmissions_preprocessor\u001b[39;00m \u001b[38;5;28;01mimport\u001b[39;00m AdmissionsPreprocessor\n",
      "\u001b[0;31mImportError\u001b[0m: attempted relative import with no known parent package"
     ]
    }
   ],
   "source": [
    "\n",
    "\n",
    "import numpy as np\n",
    "import pandas as pd\n",
    "import matplotlib.pyplot as plt\n",
    "import seaborn as sns\n",
    "\n",
    "from data.data_loader import DataLoader\n",
    "from preprocessing.ed_stay_preprocessor import EDStayPreprocessor\n",
    "from preprocessing.admissions_preprocessor import AdmissionsPreprocessor\n",
    "from preprocessing.diagnosis_preprocessor import DiagnosisPreprocessor\n",
    "from preprocessing.triage_preprocessor import TriagePreprocessor\n",
    "from preprocessing.vitalsigns_preprocessor import VitalSignsPreprocessor\n",
    "from data.data_merger import DataMerger\n",
    "from data.data_loader import DataLoader\n",
    "\n"
   ]
  },
  {
   "cell_type": "code",
   "execution_count": 4,
   "metadata": {},
   "outputs": [],
   "source": [
    "# Define file paths\n",
    "file_paths = {\n",
    "    'edstays': \"../ED/edstays.csv\",\n",
    "    'admissions': \"../HOSP/admissions.csv\",\n",
    "    'transfers': \"../HOSP/transfers.csv\",\n",
    "    'diagnosis': \"../ED/diagnosis.csv\",\n",
    "    'triage': \"../ED/triage.csv\",\n",
    "    'vitalsigns': '../ED/vitalsign.csv',\n",
    "    'medrecon': '../ED/medrecon.csv',\n",
    "    'disease_categories': \"../Data/disease_categories.csv\"\n",
    "}"
   ]
  },
  {
   "cell_type": "code",
   "execution_count": 5,
   "metadata": {},
   "outputs": [],
   "source": [
    "# Load data\n",
    "ed_stays = DataLoader.load_csv(file_paths['edstays'])\n",
    "admissions = DataLoader.load_csv(file_paths['admissions'])\n",
    "diagnosis = DataLoader.load_csv(file_paths['diagnosis'])\n",
    "triage = DataLoader.load_csv(file_paths['triage'])\n",
    "vitalsigns = DataLoader.load_csv(file_paths['vitalsigns'])"
   ]
  },
  {
   "cell_type": "code",
   "execution_count": null,
   "metadata": {},
   "outputs": [],
   "source": [
    "ed_preprocessor = EDStayPreprocessor()\n",
    "ed_stays_preprocessed = ed_preprocessor.preprocess(ed_stays)\n",
    "\n",
    "admissions_preprocessor = AdmissionsPreprocessor()\n",
    "admissions_preprocessed = admissions_preprocessor.preprocess(admissions)"
   ]
  },
  {
   "cell_type": "code",
   "execution_count": null,
   "metadata": {},
   "outputs": [],
   "source": [
    "diagnosis_preprocessor = DiagnosisPreprocessor()\n",
    "diagnosis_preprocessed = diagnosis_preprocessor.preprocess(\n",
    "    diagnosis,\n",
    "    disease_categories_path=file_paths['disease_categories']\n",
    ")\n",
    "\n",
    "triage_preprocessor = TriagePreprocessor()\n",
    "triage_preprocessed = triage_preprocessor.preprocess(triage)\n",
    "\n",
    "vitalsigns_preprocessor = VitalSignsPreprocessor()\n",
    "vitalsigns_preprocessed = vitalsigns_preprocessor.preprocess(vitalsigns)\n"
   ]
  }
 ],
 "metadata": {
  "kernelspec": {
   "display_name": ".venv",
   "language": "python",
   "name": "python3"
  },
  "language_info": {
   "codemirror_mode": {
    "name": "ipython",
    "version": 3
   },
   "file_extension": ".py",
   "mimetype": "text/x-python",
   "name": "python",
   "nbconvert_exporter": "python",
   "pygments_lexer": "ipython3",
   "version": "3.12.5"
  }
 },
 "nbformat": 4,
 "nbformat_minor": 2
}
